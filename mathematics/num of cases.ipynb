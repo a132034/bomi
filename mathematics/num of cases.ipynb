{
 "cells": [
  {
   "cell_type": "code",
   "execution_count": 1,
   "metadata": {},
   "outputs": [
    {
     "name": "stdout",
     "output_type": "stream",
     "text": [
      "120\n",
      "120\n"
     ]
    }
   ],
   "source": [
    "def fact(x):\n",
    "    if x == 1 :\n",
    "        return 1\n",
    "    if x == 0 :\n",
    "        return 1\n",
    "    \n",
    "    return x * fact(x - 1)\n",
    "\n",
    "print(fact(5))\n",
    "print(5*4*3*2*1)"
   ]
  },
  {
   "cell_type": "code",
   "execution_count": 7,
   "metadata": {},
   "outputs": [
    {
     "ename": "ImportError",
     "evalue": "No module named 'permutations'",
     "output_type": "error",
     "traceback": [
      "\u001b[0;31m---------------------------------------------------------------------------\u001b[0m",
      "\u001b[0;31mImportError\u001b[0m                               Traceback (most recent call last)",
      "\u001b[0;32m<ipython-input-7-314ed5017464>\u001b[0m in \u001b[0;36m<module>\u001b[0;34m()\u001b[0m\n\u001b[0;32m----> 1\u001b[0;31m \u001b[0;32mimport\u001b[0m \u001b[0mitertools\u001b[0m \u001b[0;32mas\u001b[0m \u001b[0mit\u001b[0m\u001b[0;34m,\u001b[0m \u001b[0mpermutations\u001b[0m\u001b[0;34m\u001b[0m\u001b[0m\n\u001b[0m",
      "\u001b[0;31mImportError\u001b[0m: No module named 'permutations'"
     ]
    }
   ],
   "source": [
    "import itertools as it"
   ]
  },
  {
   "cell_type": "code",
   "execution_count": 4,
   "metadata": {},
   "outputs": [
    {
     "name": "stdout",
     "output_type": "stream",
     "text": [
      "(1, 1)\n",
      "(1, 2)\n",
      "(1, 3)\n",
      "(2, 1)\n",
      "(2, 2)\n",
      "(2, 3)\n",
      "(3, 1)\n",
      "(3, 2)\n",
      "(3, 3)\n"
     ]
    }
   ],
   "source": [
    "for i in it.product([1,2,3], [1,2,3]):\n",
    "    print(i)"
   ]
  },
  {
   "cell_type": "code",
   "execution_count": 5,
   "metadata": {},
   "outputs": [
    {
     "name": "stdout",
     "output_type": "stream",
     "text": [
      "60.0\n",
      "120\n",
      "2\n"
     ]
    }
   ],
   "source": [
    "#순열 : 서로 다른 n개에서 r개를 택해 순서를 정해 일렬로 나열하는 것. nPr\n",
    "def permute(x, r):\n",
    "    if x < r:\n",
    "        return None\n",
    "    a = fact(x)\n",
    "    b = fact(x-r)\n",
    "    return a/b\n",
    "\n",
    "print(permute(5,3))\n",
    "print(fact(5))\n",
    "print(fact(5-3))"
   ]
  },
  {
   "cell_type": "code",
   "execution_count": 9,
   "metadata": {},
   "outputs": [
    {
     "name": "stdout",
     "output_type": "stream",
     "text": [
      "Help on class permutations in module itertools:\n",
      "\n",
      "class permutations(builtins.object)\n",
      " |  permutations(iterable[, r]) --> permutations object\n",
      " |  \n",
      " |  Return successive r-length permutations of elements in the iterable.\n",
      " |  \n",
      " |  permutations(range(3), 2) --> (0,1), (0,2), (1,0), (1,2), (2,0), (2,1)\n",
      " |  \n",
      " |  Methods defined here:\n",
      " |  \n",
      " |  __getattribute__(self, name, /)\n",
      " |      Return getattr(self, name).\n",
      " |  \n",
      " |  __iter__(self, /)\n",
      " |      Implement iter(self).\n",
      " |  \n",
      " |  __new__(*args, **kwargs) from builtins.type\n",
      " |      Create and return a new object.  See help(type) for accurate signature.\n",
      " |  \n",
      " |  __next__(self, /)\n",
      " |      Implement next(self).\n",
      " |  \n",
      " |  __reduce__(...)\n",
      " |      Return state information for pickling.\n",
      " |  \n",
      " |  __setstate__(...)\n",
      " |      Set state information for unpickling.\n",
      " |  \n",
      " |  __sizeof__(...)\n",
      " |      Returns size in memory, in bytes.\n",
      "\n"
     ]
    }
   ],
   "source": [
    "from itertools import permutations\n",
    "help(permutations)"
   ]
  },
  {
   "cell_type": "code",
   "execution_count": 11,
   "metadata": {},
   "outputs": [
    {
     "name": "stdout",
     "output_type": "stream",
     "text": [
      "('빨', '주')\n",
      "('빨', '노')\n",
      "('빨', '초')\n",
      "('주', '빨')\n",
      "('주', '노')\n",
      "('주', '초')\n",
      "('노', '빨')\n",
      "('노', '주')\n",
      "('노', '초')\n",
      "('초', '빨')\n",
      "('초', '주')\n",
      "('초', '노')\n"
     ]
    }
   ],
   "source": [
    "per = permutations(['빨','주','노','초'],2)\n",
    "for i in per:\n",
    "    print(i)"
   ]
  },
  {
   "cell_type": "code",
   "execution_count": 13,
   "metadata": {},
   "outputs": [
    {
     "name": "stdout",
     "output_type": "stream",
     "text": [
      "('빨', '빨')\n",
      "('빨', '주')\n",
      "('주', '빨')\n",
      "('주', '주')\n"
     ]
    }
   ],
   "source": [
    "#중복순열 : 서로 다른 n개에서 중복을 허용해서 r개를 택해 일렬로 나열하는 것을 중복순열이라고 함 \n",
    "# n C r = n P r / r! \n",
    "#n P r = n C r * r! \n",
    "from itertools import product\n",
    "per = product(['빨', '주'], repeat=2)\n",
    "\n",
    "for i in per:\n",
    "    print(i)"
   ]
  },
  {
   "cell_type": "code",
   "execution_count": 15,
   "metadata": {},
   "outputs": [
    {
     "name": "stdout",
     "output_type": "stream",
     "text": [
      "('빨', '주')\n",
      "('빨', '노')\n",
      "('빨', '초')\n",
      "('주', '노')\n",
      "('주', '초')\n",
      "('노', '초')\n"
     ]
    }
   ],
   "source": [
    "from itertools import combinations\n",
    "per = combinations(['빨','주','노','초'],2)\n",
    "\n",
    "for i in per:\n",
    "    print(i)"
   ]
  },
  {
   "cell_type": "code",
   "execution_count": 16,
   "metadata": {},
   "outputs": [
    {
     "name": "stdout",
     "output_type": "stream",
     "text": [
      "('1', '1')\n",
      "('1', '2')\n",
      "('1', '3')\n",
      "('1', '4')\n",
      "('2', '2')\n",
      "('2', '3')\n",
      "('2', '4')\n",
      "('3', '3')\n",
      "('3', '4')\n",
      "('4', '4')\n"
     ]
    }
   ],
   "source": [
    "#중복조합 : 조합과 마찬가지로 n개의 원소에서 r개를 순서에 상관없이 뽑는데, 중복을 허락할 때의 가짓 수. nHr\n",
    "from itertools import combinations_with_replacement\n",
    "\n",
    "for i in combinations_with_replacement('1234',2):\n",
    "    print(i)"
   ]
  },
  {
   "cell_type": "code",
   "execution_count": 17,
   "metadata": {},
   "outputs": [
    {
     "name": "stdout",
     "output_type": "stream",
     "text": [
      " odd events  0.5\n",
      " even events  0.5\n",
      "[0.5, 0.5, 0.5, 0.5, 0.5, 0.5]\n"
     ]
    }
   ],
   "source": [
    "sp = [1,2,3,4,5,6]\n",
    "event1 = [1,3,5]\n",
    "event2 = [2,4,6]\n",
    "\n",
    "#확률\n",
    "print( \" odd events \" , len(event1)/len(sp))\n",
    "print( \" even events \" , len(event2)/len(sp))\n",
    "\n",
    "def prob(x):\n",
    "    if x % 2 == 0:\n",
    "        return len(event2)/len(sp)\n",
    "    else:\n",
    "        return len(event1)/len(sp)\n",
    "    \n",
    "print(list(map(prob, [1,2,3,4,5,6])))\n"
   ]
  },
  {
   "cell_type": "code",
   "execution_count": 18,
   "metadata": {
    "collapsed": true
   },
   "outputs": [],
   "source": [
    "import numpy as np"
   ]
  },
  {
   "cell_type": "code",
   "execution_count": 20,
   "metadata": {},
   "outputs": [
    {
     "name": "stdout",
     "output_type": "stream",
     "text": [
      "[(1, 6), (2, 5), (3, 4), (4, 3), (5, 2), (6, 1)]\n",
      "[(1, 1, 5), (1, 2, 4), (1, 3, 3), (1, 4, 2), (1, 5, 1), (2, 1, 4), (2, 2, 3), (2, 3, 2), (2, 4, 1), (3, 1, 3), (3, 2, 2), (3, 3, 1), (4, 1, 2), (4, 2, 1), (5, 1, 1)]\n"
     ]
    }
   ],
   "source": [
    "#sample 만들기\n",
    "# x 주사위 시행횠수\n",
    "def dice(x):\n",
    "    a = np.arange(1,7)\n",
    "    \n",
    "    b = product(a, repeat=x)\n",
    "    c = [ x for x in b ]\n",
    "    return c\n",
    "\n",
    "#event 추출\n",
    "def event(iterable, ev):\n",
    "    d = [] \n",
    "    for x in iterable:\n",
    "        if np.sum(x) == ev:\n",
    "            d.append(x)\n",
    "    return d\n",
    "\n",
    "print(event(dice(2),7))\n",
    "print(event(dice(3),7))"
   ]
  },
  {
   "cell_type": "code",
   "execution_count": 23,
   "metadata": {},
   "outputs": [
    {
     "name": "stdout",
     "output_type": "stream",
     "text": [
      "{4}\n",
      "0.16666666666666666\n",
      "0.08333333333333333\n",
      "0.16666666666666666\n"
     ]
    }
   ],
   "source": [
    "sp = [1,2,3,4,5,6]\n",
    "event1 = set([2,4,6])\n",
    "event2 = set([4])\n",
    "\n",
    "#확률 event1 & event2\n",
    "print(event1 & event2)\n",
    "pe12 = len(event1 & event2)/len(sp)\n",
    "#확률 event1\n",
    "pe1 = len(event1)/len(sp)\n",
    "#확률 event2\n",
    "pe2 = len(event2)/len(sp)\n",
    "print(pe2)\n",
    "print(pe1 * pe2)\n",
    "#p( pe1 & pe2 ) = p(pe1 | pe2) * p(pe2)\n",
    "print(pe12 / pe2 * pe2)"
   ]
  },
  {
   "cell_type": "code",
   "execution_count": null,
   "metadata": {
    "collapsed": true
   },
   "outputs": [],
   "source": []
  }
 ],
 "metadata": {
  "kernelspec": {
   "display_name": "Python 3",
   "language": "python",
   "name": "python3"
  },
  "language_info": {
   "codemirror_mode": {
    "name": "ipython",
    "version": 3
   },
   "file_extension": ".py",
   "mimetype": "text/x-python",
   "name": "python",
   "nbconvert_exporter": "python",
   "pygments_lexer": "ipython3",
   "version": "3.5.2"
  }
 },
 "nbformat": 4,
 "nbformat_minor": 2
}
