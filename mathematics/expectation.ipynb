{
 "cells": [
  {
   "cell_type": "code",
   "execution_count": 1,
   "metadata": {
    "collapsed": true
   },
   "outputs": [],
   "source": [
    "import numpy as np"
   ]
  },
  {
   "cell_type": "code",
   "execution_count": 2,
   "metadata": {},
   "outputs": [
    {
     "name": "stdout",
     "output_type": "stream",
     "text": [
      " expectation  3.5\n",
      "[-2.5 -1.5 -0.5  0.5  1.5  2.5]\n",
      "2.91666666667\n",
      " variance  2.91666666667\n",
      "1.70782512766\n",
      " standard deviation  1.70782512766\n"
     ]
    }
   ],
   "source": [
    "s = np.array([1,2,3,4,5,6])\n",
    "p = np.array([1/6,1/6,1/6,1/6,1/6,1/6])\n",
    "\n",
    "e = np.sum(s*p)\n",
    "print(\" expectation \" , e)\n",
    "x_e = s - e\n",
    "print(x_e)\n",
    "v = np.sum(x_e**2 * p)\n",
    "print(np.var(s-e))\n",
    "print(\" variance \",v)\n",
    "print(np.std(s-e))\n",
    "print(\" standard deviation \" , np.sqrt(v))"
   ]
  },
  {
   "cell_type": "code",
   "execution_count": 3,
   "metadata": {
    "collapsed": true
   },
   "outputs": [],
   "source": [
    "from scipy import stats"
   ]
  },
  {
   "cell_type": "code",
   "execution_count": 4,
   "metadata": {},
   "outputs": [
    {
     "name": "stdout",
     "output_type": "stream",
     "text": [
      "0.0\n",
      "1.0\n",
      "1.0\n",
      "0.0\n",
      "(array(0.0), array(1.0))\n"
     ]
    }
   ],
   "source": [
    "print(stats.norm.mean())\n",
    "print(stats.norm.std())\n",
    "print(stats.norm.var())\n",
    "print(stats.norm.median())\n",
    "\n",
    "#평균과 분산\n",
    "print(stats.norm.stats())"
   ]
  },
  {
   "cell_type": "code",
   "execution_count": 5,
   "metadata": {},
   "outputs": [
    {
     "name": "stdout",
     "output_type": "stream",
     "text": [
      "0.5\n",
      "0.288675134595\n",
      "0.0833333333333\n",
      "0.5\n",
      "(array(0.5), array(0.08333333333333333))\n"
     ]
    }
   ],
   "source": [
    "print(stats.uniform.mean())\n",
    "print(stats.uniform.std())\n",
    "print(stats.uniform.var())\n",
    "print(stats.uniform.median())\n",
    "\n",
    "#평균과 분산\n",
    "print(stats.uniform.stats())"
   ]
  },
  {
   "cell_type": "code",
   "execution_count": 6,
   "metadata": {},
   "outputs": [
    {
     "name": "stdout",
     "output_type": "stream",
     "text": [
      "Number of elements : 100\n",
      "Minimum : -2.693747 Maximum : 2.215433\n",
      "Mean : {0:8.6f} -0.08335426954671642\n",
      "Variance : 1.009768\n",
      "Skew : -0.197554\n",
      "Kurtosis : -0.398188\n"
     ]
    }
   ],
   "source": [
    "import scipy as sp\n",
    "from scipy import stats\n",
    "s = sp.randn(100)\n",
    "\n",
    "n, min_max, mean, var, skew, kurt = stats.describe(s)\n",
    "print(\"Number of elements : {0:d}\".format(n))\n",
    "print(\"Minimum : {0:8.6f} Maximum : {1:8.6f}\".format(min_max[0], min_max[1]))\n",
    "print(\"Mean : {0:8.6f}\",format(mean))\n",
    "print(\"Variance : {0:8.6f}\".format(var))\n",
    "print(\"Skew : {0:8.6f}\".format(skew))\n",
    "print(\"Kurtosis : {0:8.6f}\".format(kurt))\n"
   ]
  },
  {
   "cell_type": "code",
   "execution_count": 7,
   "metadata": {
    "collapsed": true
   },
   "outputs": [],
   "source": [
    "import statistics as sta"
   ]
  },
  {
   "cell_type": "code",
   "execution_count": 8,
   "metadata": {},
   "outputs": [
    {
     "name": "stdout",
     "output_type": "stream",
     "text": [
      "2.6\n",
      "3\n",
      "2.75\n",
      "3\n",
      "3\n",
      "3\n"
     ]
    }
   ],
   "source": [
    "l = [1,2,3,3,4]\n",
    "print(sta.mean(l))\n",
    "print(sta.median(l))\n",
    "print(sta.median_grouped(l))\n",
    "print(sta.median_high(l))\n",
    "print(sta.median_low(l))\n",
    "print(sta.mode(l))"
   ]
  },
  {
   "cell_type": "code",
   "execution_count": 9,
   "metadata": {
    "collapsed": true
   },
   "outputs": [],
   "source": [
    "from scipy.stats import mode"
   ]
  },
  {
   "cell_type": "code",
   "execution_count": 11,
   "metadata": {},
   "outputs": [
    {
     "name": "stdout",
     "output_type": "stream",
     "text": [
      "0.64\n",
      "1.0\n",
      "ModeResult(mode=array([ 1.]), count=array([2]))\n"
     ]
    }
   ],
   "source": [
    "#평균 중간 최빈값 구하기\n",
    "x = np.array([-2.1, -1, 1, 1, 4.3])\n",
    "print(np.mean(x))\n",
    "print(np.median(x))\n",
    "print(mode(x))"
   ]
  },
  {
   "cell_type": "code",
   "execution_count": 12,
   "metadata": {},
   "outputs": [
    {
     "name": "stdout",
     "output_type": "stream",
     "text": [
      "Help on function pvariance in module statistics:\n",
      "\n",
      "pvariance(data, mu=None)\n",
      "    Return the population variance of ``data``.\n",
      "    \n",
      "    data should be an iterable of Real-valued numbers, with at least one\n",
      "    value. The optional argument mu, if given, should be the mean of\n",
      "    the data. If it is missing or None, the mean is automatically calculated.\n",
      "    \n",
      "    Use this function to calculate the variance from the entire population.\n",
      "    To estimate the variance from a sample, the ``variance`` function is\n",
      "    usually a better choice.\n",
      "    \n",
      "    Examples:\n",
      "    \n",
      "    >>> data = [0.0, 0.25, 0.25, 1.25, 1.5, 1.75, 2.75, 3.25]\n",
      "    >>> pvariance(data)\n",
      "    1.25\n",
      "    \n",
      "    If you have already calculated the mean of the data, you can pass it as\n",
      "    the optional second argument to avoid recalculating it:\n",
      "    \n",
      "    >>> mu = mean(data)\n",
      "    >>> pvariance(data, mu)\n",
      "    1.25\n",
      "    \n",
      "    This function does not check that ``mu`` is actually the mean of ``data``.\n",
      "    Giving arbitrary values for ``mu`` may lead to invalid or impossible\n",
      "    results.\n",
      "    \n",
      "    Decimals and Fractions are supported:\n",
      "    \n",
      "    >>> from decimal import Decimal as D\n",
      "    >>> pvariance([D(\"27.5\"), D(\"30.25\"), D(\"30.25\"), D(\"34.5\"), D(\"41.75\")])\n",
      "    Decimal('24.815')\n",
      "    \n",
      "    >>> from fractions import Fraction as F\n",
      "    >>> pvariance([F(1, 4), F(5, 4), F(1, 2)])\n",
      "    Fraction(13, 72)\n",
      "\n"
     ]
    }
   ],
   "source": [
    "help(sta.pvariance)"
   ]
  },
  {
   "cell_type": "code",
   "execution_count": 14,
   "metadata": {},
   "outputs": [
    {
     "name": "stdout",
     "output_type": "stream",
     "text": [
      "2.6\n",
      "[-1.6, -0.6000000000000001, 0.3999999999999999, 0.3999999999999999, 1.4]\n",
      "<map object at 0x7f26b92b7ba8>\n",
      "pvariance  1.0400000000000003\n",
      "variance  1.3000000000000003\n",
      "1.3\n",
      "1.04\n"
     ]
    }
   ],
   "source": [
    "#population variance 모분산\n",
    "l = [1,2,3,3,4]\n",
    "mu = sta.mean(l)\n",
    "print(mu)\n",
    "ls = []\n",
    "for i in l :\n",
    "    ls.append(i-mu)\n",
    "    \n",
    "print(ls)\n",
    "lp = map(lambda x: x**2, ls)\n",
    "print(lp)\n",
    "lsum = sum(lp)\n",
    "print(\"pvariance \", lsum/len(l))\n",
    "print(\"variance \", lsum/(len(l)-1))\n",
    "print(sta.variance(l))\n",
    "print(sta.pvariance(l))"
   ]
  },
  {
   "cell_type": "code",
   "execution_count": 15,
   "metadata": {},
   "outputs": [
    {
     "name": "stdout",
     "output_type": "stream",
     "text": [
      "0.64\n",
      "1.0\n",
      "ModeResult(mode=array([ 1.]), count=array([2]))\n",
      " variance x \n",
      "4.7704\n",
      "4.7704\n",
      "5.963\n"
     ]
    }
   ],
   "source": [
    "x = np.array([-2.1, -1, 1, 1, 4.3])\n",
    "print(np.mean(x))\n",
    "print(np.median(x))\n",
    "print(mode(x))\n",
    "\n",
    "x_m = np.mean(x)\n",
    "x_a = x - x_m\n",
    "x_p = np.power(x_a, 2)\n",
    "print(\" variance x \")\n",
    "print(np.var(x))\n",
    "print(sta.pvariance(x))\n",
    "print(sta.variance(x))"
   ]
  },
  {
   "cell_type": "code",
   "execution_count": 16,
   "metadata": {},
   "outputs": [
    {
     "name": "stdout",
     "output_type": "stream",
     "text": [
      "2.6\n",
      "[-1.6, -0.6000000000000001, 0.3999999999999999, 0.3999999999999999, 1.4]\n",
      "<map object at 0x7f26b92b9d68>\n",
      "pvariance  1.0400000000000003\n",
      "variance  1.3000000000000003\n",
      "1.3\n",
      "1.140175425099138 1.140175425099138\n",
      "1.04\n",
      "1.019803902718557 1.019803902718557\n"
     ]
    }
   ],
   "source": [
    "l = [1,2,3,3,4]\n",
    "mu = sta.mean(l)\n",
    "print(mu)\n",
    "ls = []\n",
    "for i in l :\n",
    "    ls.append(i-mu)\n",
    "    \n",
    "print(ls)\n",
    "lp = map(lambda x: x**2, ls)\n",
    "print(lp)\n",
    "lsum = sum(lp)\n",
    "print(\"pvariance \", lsum/len(l))\n",
    "print(\"variance \", lsum/(len(l)-1))\n",
    "print(sta.variance(l))\n",
    "print(sta.stdev(l), sta.math.sqrt(sta.variance(l)) )\n",
    "print(sta.pvariance(l))\n",
    "print(sta.pstdev(l), sta.math.sqrt(sta.pvariance(l)) )"
   ]
  },
  {
   "cell_type": "code",
   "execution_count": 17,
   "metadata": {},
   "outputs": [
    {
     "name": "stdout",
     "output_type": "stream",
     "text": [
      "0.64\n",
      "1.0\n",
      "ModeResult(mode=array([ 1.]), count=array([2]))\n",
      " variance x \n",
      "4.7704\n",
      "4.7704\n",
      "5.963\n",
      "2.18412453857\n",
      "2.184124538573751\n",
      "2.4419254697881345\n"
     ]
    }
   ],
   "source": [
    "x = np.array([-2.1, -1, 1, 1, 4.3])\n",
    "print(np.mean(x))\n",
    "print(np.median(x))\n",
    "print(mode(x))\n",
    "\n",
    "x_m = np.mean(x)\n",
    "x_a = x - x_m\n",
    "x_p = np.power(x_a, 2)\n",
    "print(\" variance x \")\n",
    "print(np.var(x))\n",
    "print(sta.pvariance(x))\n",
    "print(sta.variance(x))\n",
    "\n",
    "print(np.std(x))\n",
    "print(sta.pstdev(x))\n",
    "print(sta.stdev(x))"
   ]
  },
  {
   "cell_type": "code",
   "execution_count": 19,
   "metadata": {},
   "outputs": [
    {
     "name": "stdout",
     "output_type": "stream",
     "text": [
      "100\n",
      "Mean : {0:8.6f} -0.17880002963989702\n",
      "Minimum : -2.575909 Maximum : 2.921594\n",
      "Variance : 0.966921\n",
      "Std. deviation : 0.983322\n",
      "Median : -0.203087\n"
     ]
    }
   ],
   "source": [
    "s = sp.randn(100)\n",
    "print(len(s))\n",
    "\n",
    "print(\"Mean : {0:8.6f}\",format(s.mean()))\n",
    "print(\"Minimum : {0:8.6f} Maximum : {1:8.6f}\".format(s.min(), s.max()))\n",
    "print(\"Variance : {0:8.6f}\".format(s.var()))\n",
    "print(\"Std. deviation : {0:8.6f}\".format(s.std()))\n",
    "print(\"Median : {0:8.6f}\".format(sp.median(s)))"
   ]
  },
  {
   "cell_type": "code",
   "execution_count": 20,
   "metadata": {},
   "outputs": [
    {
     "name": "stdout",
     "output_type": "stream",
     "text": [
      "0.5\n",
      "0.288675134595\n",
      "0.0833333333333\n",
      "0.0\n",
      "1.0\n",
      "1.0\n",
      "(array(0.5), array(0.08333333333333333))\n",
      "(array(0.0), array(1.0))\n"
     ]
    }
   ],
   "source": [
    "print(stats.uniform.mean())\n",
    "print(stats.uniform.std())\n",
    "print(stats.uniform.var())\n",
    "\n",
    "print(stats.norm.mean())\n",
    "print(stats.norm.std())\n",
    "print(stats.norm.var())\n",
    "\n",
    "print(stats.uniform.stats())\n",
    "print(stats.norm.stats())\n"
   ]
  },
  {
   "cell_type": "code",
   "execution_count": 26,
   "metadata": {},
   "outputs": [
    {
     "name": "stdout",
     "output_type": "stream",
     "text": [
      "-47.3333333333\n",
      "-47.3333333333\n"
     ]
    }
   ],
   "source": [
    "#covariance -  두 변수의 평균의 차의 곱의 평균을 구하는 것. \n",
    "x = np.array([10,2,3])\n",
    "y = np.array([4,50,6])\n",
    "\n",
    "cxy = np.cov(x,y, ddof=0)[0][1]\n",
    "print(cxy)\n",
    "sss = (x[0]-np.mean(x)) * (y[0]-np.average(y)) + (x[1]-np.mean(x)) * (y[1]-np.average(y)) + (x[2]-np.mean(x)) * (y[2]-np.average(y))\n",
    "cosss = sss/3\n",
    "print(cosss)"
   ]
  },
  {
   "cell_type": "code",
   "execution_count": 28,
   "metadata": {},
   "outputs": [
    {
     "name": "stdout",
     "output_type": "stream",
     "text": [
      "0.906922978051\n",
      "[[ 1.          0.90692298]\n",
      " [ 0.90692298  1.        ]]\n"
     ]
    }
   ],
   "source": [
    "# 상관계수\n",
    "a = np.array([29,28,34,31,25,29,32,31,24,33,25,31,26,30])\n",
    "b = np.array([77,62,93,84,59,64,80,75,58,91,51,73,65,84])\n",
    "\n",
    "averg = np.ones(14)\n",
    "avergA = averg * np.mean(a)\n",
    "avergB = averg * np.mean(b)\n",
    "sss = (a-avergA) * (b-avergB)\n",
    "sssS = sum(sss)\n",
    "\n",
    "ppp = np.std(a) * np.std(b)\n",
    "cor = sssS/(14*ppp)\n",
    "print(cor)\n",
    "print(np.corrcoef(a,b))"
   ]
  },
  {
   "cell_type": "code",
   "execution_count": null,
   "metadata": {
    "collapsed": true
   },
   "outputs": [],
   "source": []
  }
 ],
 "metadata": {
  "kernelspec": {
   "display_name": "Python 3",
   "language": "python",
   "name": "python3"
  },
  "language_info": {
   "codemirror_mode": {
    "name": "ipython",
    "version": 3
   },
   "file_extension": ".py",
   "mimetype": "text/x-python",
   "name": "python",
   "nbconvert_exporter": "python",
   "pygments_lexer": "ipython3",
   "version": "3.5.2"
  }
 },
 "nbformat": 4,
 "nbformat_minor": 2
}
