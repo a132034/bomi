{
 "cells": [
  {
   "cell_type": "code",
   "execution_count": 1,
   "metadata": {
    "collapsed": true
   },
   "outputs": [],
   "source": [
    "import numpy as np"
   ]
  },
  {
   "cell_type": "code",
   "execution_count": 2,
   "metadata": {},
   "outputs": [
    {
     "name": "stdout",
     "output_type": "stream",
     "text": [
      "[[ 0.88180644  0.63429424]\n",
      " [ 0.66484737  0.33627131]\n",
      " [ 0.69312524  0.07687382]]\n",
      "[[[ 0.60055967  0.18747138  0.98462652]\n",
      "  [ 0.88587345  0.44110177  0.43662231]\n",
      "  [ 0.84314297  0.26291777  0.69067611]]\n",
      "\n",
      " [[ 0.30908517  0.35281269  0.50713245]\n",
      "  [ 0.67028405  0.30362747  0.09275151]\n",
      "  [ 0.2808529   0.89884485  0.6847782 ]]\n",
      "\n",
      " [[ 0.70175064  0.10997999  0.99987512]\n",
      "  [ 0.32346082  0.91845776  0.29650128]\n",
      "  [ 0.38922786  0.11517098  0.35093006]]]\n"
     ]
    }
   ],
   "source": [
    "a = np.random.rand(3,2)\n",
    "print(a)\n",
    "\n",
    "b = np.random.rand(3,3,3)\n",
    "print(b)"
   ]
  },
  {
   "cell_type": "code",
   "execution_count": 3,
   "metadata": {},
   "outputs": [
    {
     "name": "stdout",
     "output_type": "stream",
     "text": [
      "Help on built-in function randn:\n",
      "\n",
      "randn(...) method of mtrand.RandomState instance\n",
      "    randn(d0, d1, ..., dn)\n",
      "    \n",
      "    Return a sample (or samples) from the \"standard normal\" distribution.\n",
      "    \n",
      "    If positive, int_like or int-convertible arguments are provided,\n",
      "    `randn` generates an array of shape ``(d0, d1, ..., dn)``, filled\n",
      "    with random floats sampled from a univariate \"normal\" (Gaussian)\n",
      "    distribution of mean 0 and variance 1 (if any of the :math:`d_i` are\n",
      "    floats, they are first converted to integers by truncation). A single\n",
      "    float randomly sampled from the distribution is returned if no\n",
      "    argument is provided.\n",
      "    \n",
      "    This is a convenience function.  If you want an interface that takes a\n",
      "    tuple as the first argument, use `numpy.random.standard_normal` instead.\n",
      "    \n",
      "    Parameters\n",
      "    ----------\n",
      "    d0, d1, ..., dn : int, optional\n",
      "        The dimensions of the returned array, should be all positive.\n",
      "        If no argument is given a single Python float is returned.\n",
      "    \n",
      "    Returns\n",
      "    -------\n",
      "    Z : ndarray or float\n",
      "        A ``(d0, d1, ..., dn)``-shaped array of floating-point samples from\n",
      "        the standard normal distribution, or a single such float if\n",
      "        no parameters were supplied.\n",
      "    \n",
      "    See Also\n",
      "    --------\n",
      "    random.standard_normal : Similar, but takes a tuple as its argument.\n",
      "    \n",
      "    Notes\n",
      "    -----\n",
      "    For random samples from :math:`N(\\mu, \\sigma^2)`, use:\n",
      "    \n",
      "    ``sigma * np.random.randn(...) + mu``\n",
      "    \n",
      "    Examples\n",
      "    --------\n",
      "    >>> np.random.randn()\n",
      "    2.1923875335537315 #random\n",
      "    \n",
      "    Two-by-four array of samples from N(3, 6.25):\n",
      "    \n",
      "    >>> 2.5 * np.random.randn(2, 4) + 3\n",
      "    array([[-4.49401501,  4.00950034, -1.81814867,  7.29718677],  #random\n",
      "           [ 0.39924804,  4.68456316,  4.99394529,  4.84057254]]) #random\n",
      "\n"
     ]
    }
   ],
   "source": [
    "help(np.random.randn)"
   ]
  },
  {
   "cell_type": "code",
   "execution_count": 4,
   "metadata": {
    "collapsed": true
   },
   "outputs": [],
   "source": [
    "import matplotlib.pyplot as plt"
   ]
  },
  {
   "cell_type": "code",
   "execution_count": 5,
   "metadata": {},
   "outputs": [
    {
     "name": "stdout",
     "output_type": "stream",
     "text": [
      "[[ 0.30267113 -0.46217728]\n",
      " [ 0.17910928  0.25573346]\n",
      " [ 1.5725507  -0.42517584]]\n",
      "[[[ 0.21119101  0.42008482 -0.29122593]\n",
      "  [ 2.89194574  1.05112258  1.40985691]\n",
      "  [-1.77599111 -0.48892759 -1.47396021]]\n",
      "\n",
      " [[ 1.16517578  0.60911274  0.12634737]\n",
      "  [-0.61795982  0.44647634 -0.03970877]\n",
      "  [-0.6893298  -0.41258373 -0.52514939]]\n",
      "\n",
      " [[ 0.6405191   0.42518157 -3.34989512]\n",
      "  [ 0.94988921 -0.96201366  0.981164  ]\n",
      "  [-0.90242242  0.55691234  0.85473681]]]\n"
     ]
    },
    {
     "data": {
      "image/png": "[encoded data removed]",
      "text/plain": [
       "<matplotlib.figure.Figure at 0x7f41177d7390>"
      ]
     },
     "metadata": {},
     "output_type": "display_data"
    }
   ],
   "source": [
    "a=np.random.randn(3,2)\n",
    "print(a)\n",
    "\n",
    "b=np.random.randn(3,3,3)\n",
    "print(b)\n",
    "\n",
    "plt.plot(a)\n",
    "plt.show()"
   ]
  },
  {
   "cell_type": "code",
   "execution_count": 7,
   "metadata": {},
   "outputs": [
    {
     "name": "stdout",
     "output_type": "stream",
     "text": [
      "[5 1 1 4 2 6 3 2 2 3]\n",
      "<class 'numpy.ndarray'>\n",
      "10\n",
      "[0 0 1 0 0 0 0 0 1 0]\n",
      "[0 0 0 0 0 0 0 0 0 0]\n",
      "[[2 4 2 1]\n",
      " [3 0 2 4]]\n"
     ]
    }
   ],
   "source": [
    "outcome = np.random.randint(1, 7, size = 10)\n",
    "print (outcome)\n",
    "print(type(outcome))\n",
    "print(len (outcome))\n",
    "\n",
    "print  (np.random.randint(2, size=10))\n",
    "print (np.random.randint(1, size=10))\n",
    "print (np.random.randint(5, size=(2,4)))"
   ]
  },
  {
   "cell_type": "code",
   "execution_count": 8,
   "metadata": {},
   "outputs": [
    {
     "name": "stdout",
     "output_type": "stream",
     "text": [
      "[ 0.46063317  0.10448001  0.11281657  0.06532803  0.96143079]\n",
      "[[ 0.22489654  0.25260025  0.60680241  0.83216647]\n",
      " [ 0.94089769  0.69056961  0.17442063  0.19739446]\n",
      " [ 0.93829233  0.62907718  0.22557333  0.57616429]]\n",
      "[[ 2.76106413  3.56042851 -1.55387286  1.76242589]\n",
      " [ 4.9422634   3.68033638  3.78512137  1.96803388]\n",
      " [ 2.83458475 -3.17127605  3.0114336   4.90956393]]\n"
     ]
    }
   ],
   "source": [
    "print(np.random.random_sample(5))\n",
    "\n",
    "x = np.random.random_sample((3,4))\n",
    "print(x)\n",
    "a = -3.4\n",
    "b = 5.9\n",
    "A = (b-a) * np.random.random_sample((3,4))+a\n",
    "print(A)"
   ]
  },
  {
   "cell_type": "code",
   "execution_count": 13,
   "metadata": {},
   "outputs": [
    {
     "name": "stdout",
     "output_type": "stream",
     "text": [
      "[ 0.08697423  0.49213961  0.97148848  0.36411048  0.49797974]\n",
      "[ 0.54881159  0.00215465  0.76862895  0.45343231  0.04757038]\n",
      "[[ 0.37703397  0.71771642]\n",
      " [ 0.87608517  0.11358703]]\n"
     ]
    }
   ],
   "source": [
    "print(np.random.ranf(5))\n",
    "print(np.random.random_sample(5))\n",
    "print(np.random.ranf((2,2)))"
   ]
  },
  {
   "cell_type": "code",
   "execution_count": 14,
   "metadata": {},
   "outputs": [
    {
     "name": "stdout",
     "output_type": "stream",
     "text": [
      "[ 0.63588482  0.61431184  0.52916912  0.23404365  0.83643388]\n",
      "[ 0.61875325  0.8815249   0.62986149  0.66644306  0.94163223]\n",
      "[[ 0.88824113  0.90996542]\n",
      " [ 0.75279032  0.84662912]]\n"
     ]
    }
   ],
   "source": [
    "print(np.random.random(5))\n",
    "print(np.random.random_sample(5))\n",
    "print(np.random.random((2,2)))"
   ]
  },
  {
   "cell_type": "code",
   "execution_count": 15,
   "metadata": {},
   "outputs": [
    {
     "name": "stdout",
     "output_type": "stream",
     "text": [
      "[[ 0.77132064  0.02075195  0.63364823  0.74880388  0.49850701]\n",
      " [ 0.22479665  0.19806286  0.76053071  0.16911084  0.08833981]]\n",
      "[[ 0.26551159  0.10854853  0.00429143 -0.17460021  0.43302619]\n",
      " [ 1.20303737 -0.96506567  1.02827408  0.22863013  0.44513761]]\n"
     ]
    }
   ],
   "source": [
    "rng = np.random.RandomState(10)\n",
    "z = np.asarray(rng.uniform(size=(2,5)))\n",
    "print(z)\n",
    "z1 = np.asarray(rng.standard_normal(size=(2,5)))\n",
    "print(z1)"
   ]
  },
  {
   "cell_type": "code",
   "execution_count": 16,
   "metadata": {},
   "outputs": [
    {
     "name": "stdout",
     "output_type": "stream",
     "text": [
      "[ 1.9151945   6.22108771  4.37727739  7.85358584  7.79975808]\n",
      "[ 1.9151945   6.22108771  4.37727739  7.85358584  7.79975808]\n",
      "('MT19937', array([2260313690,  348938374, 3392255680, 2909033704,  140638832,\n",
      "       1016917445, 4051655600,  976942074, 1628339371,  932989997,\n",
      "        417988570, 3106230116, 3847402493, 2846838083, 1854065059,\n",
      "       2365406610,  631390710, 3006558680, 1855109059,  230064328,\n",
      "        758538135, 1999313224, 2345696623, 4174662269,  280561112,\n",
      "       1706268812, 4182435209, 1014638053,  610687375, 2331525695,\n",
      "       3432349290, 1302213857, 2461808965, 1211193860, 3120004290,\n",
      "        159403718,  785407708, 1103582039, 2181742160, 4003474818,\n",
      "       3333684546, 2164025542, 3329631014, 3331897623,   44841503,\n",
      "       2124190575, 4103716897, 1985760015, 3231349092, 2579223365,\n",
      "       2045506447, 1684183393, 4105280043,  264622240, 3457386480,\n",
      "       3640204395, 3308050770, 1877785652, 1671495555,  489816736,\n",
      "       3645271096, 1053221445, 4106060276, 3422181599, 2615443735,\n",
      "       1804244509, 3539838858, 3452443235, 2399113344, 1565187405,\n",
      "       2474733055, 1149428025, 3675651662, 3578586687, 2141819878,\n",
      "       3912530560, 3882533229,  502129057, 2262588256,  243511723,\n",
      "       3669928491, 2909147132, 2533094556, 1693913013, 1031455591,\n",
      "        892347669, 1204715320, 2778280540, 3103938066, 1548020698,\n",
      "       2371526184, 2362735796,  601580678, 4163515833, 2286774353,\n",
      "       3385525426, 3435050721, 3859726043,  658564489, 1680167334,\n",
      "        395160378, 1918020476, 2179531800,  750714379, 1277823100,\n",
      "       3279993862,  968375750, 2645945689, 1435905461,  453299951,\n",
      "       2432221527, 2543208725,  977186272,  374115648, 1760836837,\n",
      "       1339597678, 4072942346, 1502786855, 1263608786, 2235649091,\n",
      "       3748764825,  105321286, 3494441207,  889085055, 1548213403,\n",
      "       3930247105, 1261616741, 3701589864, 2730870951, 2328741100,\n",
      "       1549885863,  885362289, 4236685512, 4183414762, 2700385771,\n",
      "       4179975148, 1324969786, 3735228741, 3337696400,  342695004,\n",
      "       1189947554,  799007231, 3479707634, 2754945644,  450211552,\n",
      "       2069028394, 1489498981, 3077105910, 2775627593, 1485941576,\n",
      "       1906706347, 1363343182, 1154927348, 2663740949, 3518726712,\n",
      "       3224543204, 2088074182, 3636799541,  876485687, 1331764607,\n",
      "       1721688505, 2144969088, 4090073983, 1223328334, 1893823894,\n",
      "       4023014570, 2390997307,  722079132,  534353189, 4068461700,\n",
      "       4005844884, 3362478912, 2758321754, 2734444009,  970440841,\n",
      "       3012468549, 1113307510, 4226440206, 4008367189, 2219268773,\n",
      "        870392716, 2499253257, 3083981992, 2008109066, 1151287397,\n",
      "       2169435052, 2384932835, 1612096122, 2171119261, 3321318748,\n",
      "       1317674930, 1449643218, 2113476231, 3313810858, 1519782446,\n",
      "       2630003892, 2464758765,    9731462, 1052415654, 3656592014,\n",
      "       2841565583, 3624077715, 2983921733,  562911616, 1962641375,\n",
      "        614269341,  785306885, 4273760749, 1888303864, 3171945333,\n",
      "        747233216,  368198111, 3813072643, 1724804430,  681854442,\n",
      "       4131373003, 2999398905, 2879312256, 3658689550, 2347669835,\n",
      "       2664829219, 2807075018, 3253655972, 2002544366, 1643713543,\n",
      "       1186919809, 3215199810, 4029160488, 1068185241,  915000036,\n",
      "       2065976610, 4276053157, 3527758033, 2401161367,  842168689,\n",
      "        507969091, 1804685371,  958670079, 2845853863, 2795655679,\n",
      "        229490910,  774557515, 2141840939, 1784889067, 1679680385,\n",
      "       2648417388, 2429705148, 2754293229, 1433256960,  126113575,\n",
      "       3636255678, 3156875032, 3485050346, 2225833886,  477422240,\n",
      "       2922494267, 3447028538, 4123742736, 1624289207, 1362957341,\n",
      "        578091799, 1188249426, 4254745168, 2077134384, 3248839208,\n",
      "        920104920,  777072686,  919500975,  954689369, 3734345697,\n",
      "        963527021, 1627543331,  610865187, 3652041124, 2034149562,\n",
      "       3544763031,   77621747, 4128985850, 1587424817, 1354288442,\n",
      "       3619314760, 1708376797,  326940888, 2058024529, 3459367601,\n",
      "       1470000018, 1095941426, 2700094647, 1369430284,  240943488,\n",
      "        361842083,  961851483, 2191681518, 3308512613, 2054940002,\n",
      "       4265757199, 1166040063, 3479215563, 3448883455,  660622673,\n",
      "       1004507739,  444314655, 3089971362, 3441658735, 2054386395,\n",
      "        721606098, 2808281070, 3988922231, 2981069157, 3187660644,\n",
      "       1700438419,  465094909, 2067097955,  781034920, 3593382873,\n",
      "        221537540, 4058240238, 2649691518, 1464747161, 2171116181,\n",
      "        277760487, 2657734871, 1713714962, 2306668985, 1921083486,\n",
      "       3101885825,  663912034, 2109009255, 1604183668,  752862648,\n",
      "       2154754068, 2146568730, 2346085114,  227251157, 3434674477,\n",
      "       1825639385,  614299416, 1712896225,  115429852, 3468720208,\n",
      "       3812351631,  144413573, 1565979984, 4039450152, 4216138990,\n",
      "       1663623049, 2247050244, 3060868821, 1566337412, 3382686158,\n",
      "       2509623692, 1263563671, 1360200562, 1826970920, 2705971464,\n",
      "       1615712977, 4286498113, 4230861534, 2996730271, 1690375340,\n",
      "       2889722659, 3759201910,  195871346,  657582540, 3854023474,\n",
      "        443002808, 1522982692,  524536023, 4259312476, 1550095226,\n",
      "       4167482166,  156698076, 4237215123, 3869358353, 1811122148,\n",
      "       1187724156, 2737100772, 1406546615,  432196015,  814245354,\n",
      "       4129949113, 1940145834, 1587754779, 3914244363, 2890981831,\n",
      "       2532990725, 4220043234,  922349960, 3682307144, 3519797929,\n",
      "       1872948906, 3421600291, 1356585955, 2660558280, 2593655527,\n",
      "       1829590266, 4071773680, 3568093215, 2602224556, 2629361598,\n",
      "       3225297981, 3639800786, 1400651480,  769725007, 3509817332,\n",
      "       1138316693, 1429898715, 3029690960, 3512041792, 2693047090,\n",
      "       3025060641, 2934039187,  271210632, 1213597215,  466142102,\n",
      "       1489185601, 2431230993, 1940741760, 1856343276, 3695963554,\n",
      "        277495980, 2525997388, 3753281030, 3833241502, 1492571399,\n",
      "        203035164, 2190351553, 3620139539, 2628646633, 2244091324,\n",
      "       1274966498, 3847098676,  958180754, 1263580506, 2803396943,\n",
      "        804048593,  578223533, 3232363764, 3810610989, 2666351419,\n",
      "        274246722, 3045961342, 2654133257,  338915900,  135050623,\n",
      "       3714710897, 1122319361, 1930288394, 1514757446, 2648411551,\n",
      "       2665976818, 1922954710, 2414027436, 1364684265,  395814907,\n",
      "        803208761, 2521936447,  631823100,  570463898, 1034907987,\n",
      "        179273695, 2234303106, 2679028703, 2219522624, 2189595580,\n",
      "       3160356306, 2041672333, 2986536412, 3816979234, 3054356004,\n",
      "       1932200261,  487488630, 2462430590, 3646338000, 1173263836,\n",
      "        542681657, 1746431646, 2016274431,   50704002, 2910955822,\n",
      "       3136959849, 2562376297, 2669796713,  218959494, 2736407903,\n",
      "       2112935337, 2184602348, 3131955204, 1988918897, 1979433465,\n",
      "        111037611, 1307546936, 1620099127, 1388754931,  507698292,\n",
      "       3193492631, 2715688218, 2909281280, 1057165160,  951970226,\n",
      "       1479088468, 2466700726,  110695581, 2588386715, 3894786584,\n",
      "       1363081750, 2562094110,  673223621, 3455478874,  319727983,\n",
      "       3420367804, 2595169198, 3952587382,  841364433, 3277142633,\n",
      "       2615888764,  353016384,  897840736,  884587774, 2356096243,\n",
      "        231721642, 2574185937,   13589462,  865475638, 4107744461,\n",
      "       1653527351, 2649632148, 1167334644, 1569430142, 3609105483,\n",
      "       3463259590, 1179723884, 2115248217, 3982052755,  487211103,\n",
      "       2363841818, 3724666385, 2275560911, 3830737525,  353381279,\n",
      "       1123433786, 1682768477, 2473812269, 1408021729, 1584109860,\n",
      "       4045088634, 1624954728, 1941754630, 4153741554, 3653232275,\n",
      "       1526795240, 3729710413,  332973006, 1697259304, 4217938175,\n",
      "       3876775776, 2901195850, 1611722990, 2548595086, 4265201072,\n",
      "         76991528, 3763912135, 1696021447,  123633128,  225556227,\n",
      "       3703923807, 4055295818, 1989679936,  572855962, 2422414634,\n",
      "       4293793217, 3757525477, 2042976673, 4132414536, 4241580006,\n",
      "       2077062331, 2198064263, 3998557957,  563847915, 2851070600,\n",
      "       3105990049, 2079504127, 1211296335,   61687311, 1982828632,\n",
      "       2130228175, 1557705711, 1212550942, 1205493497,  185279173,\n",
      "       4165883878,  773213171,  344698889, 1395910106, 3707815628,\n",
      "       1334816435, 2620911066, 1935228689,  180053610, 4078401641,\n",
      "       1736554240, 3643702302, 3315857509,  341577669, 2807850657,\n",
      "        391126227, 2467381806, 2838072779, 3039008762, 3826797962,\n",
      "        421136520, 3827508772, 1428234374,  798512555, 1640145905,\n",
      "       2443857604, 1869726726,  374514272, 2743520988, 3451965119,\n",
      "       3983557115, 1676015003, 2941385220, 2985199325], dtype=uint32), 10, 0, 0.0)\n"
     ]
    }
   ],
   "source": [
    "np.random.seed(1234)\n",
    "print(np.random.uniform(0,10,5))\n",
    "\n",
    "r = np.random.RandomState(1234)\n",
    "print(r.uniform(0,10,5))\n",
    "print(r.get_state())"
   ]
  },
  {
   "cell_type": "code",
   "execution_count": 17,
   "metadata": {},
   "outputs": [
    {
     "name": "stdout",
     "output_type": "stream",
     "text": [
      "[2 1 4 0 3]\n",
      "[2 1 4 0 3]\n",
      "[2 1 4 0 3]\n",
      "[2 1 4 0 3]\n",
      "[2 1 4 0 3]\n"
     ]
    }
   ],
   "source": [
    "for i in range(5):\n",
    "    arr = np.arange(5)\n",
    "    np.random.seed(1)\n",
    "    np.random.shuffle(arr)\n",
    "    print (arr)"
   ]
  },
  {
   "cell_type": "code",
   "execution_count": 20,
   "metadata": {},
   "outputs": [
    {
     "name": "stdout",
     "output_type": "stream",
     "text": [
      "[ 3 10  4  5  5  6  7  7  4  5  5  4  5  7  5  5  7  6  6  6  3  5  7  7  7\n",
      "  4  3  6  5  6  5  4  4  3  6  5  2  6  6  4  5  4  3  5  3  7  3  5  3  7\n",
      "  7  4  5  5  5  8  4  4  5  8  5  5  6  2  3  6  2  7  5  5  7  5  5  6  4\n",
      "  5  6  3  6  6  4  6  4  6  7  2  5  3  6  3  4  7  5  6  6  4  6  3  5  1]\n",
      "0.38505\n"
     ]
    }
   ],
   "source": [
    "#binomial 이항분포\n",
    "#P(N) = (nN) p^N (1-p)^(n-N)\n",
    "# n is trial , p is success in [0,1] P is prob\n",
    "n, p = 10, 0.5\n",
    "s = np.random.binomial(n, p, 100)\n",
    "print(s)\n",
    "a = sum(np.random.binomial(9,0.1,20000) == 0) / 20000.\n",
    "print(a)"
   ]
  },
  {
   "cell_type": "code",
   "execution_count": 22,
   "metadata": {},
   "outputs": [
    {
     "name": "stdout",
     "output_type": "stream",
     "text": [
      "[-0.8918301  -0.32811731 -0.34567492 -0.88615322 -0.65881912 -0.02625929\n",
      " -0.22925559 -0.16668298 -0.3715588  -0.97193933]\n",
      "True\n",
      "True\n"
     ]
    },
    {
     "data": {
      "image/png": "[encoded data removed]",
      "text/plain": [
       "<matplotlib.figure.Figure at 0x7f41153e74a8>"
      ]
     },
     "metadata": {},
     "output_type": "display_data"
    }
   ],
   "source": [
    "s = np.random.uniform(-1, 0, 10)\n",
    "print(s)\n",
    "print (np.all ( s >= -1))\n",
    "print(np.all(s < 0))\n",
    "\n",
    "count, bins, ignored = plt.hist(s, 15, normed=True)\n",
    "plt.plot(bins, np.ones_like(bins), linewidth=2, color='r')\n",
    "plt.show()"
   ]
  },
  {
   "cell_type": "code",
   "execution_count": 23,
   "metadata": {},
   "outputs": [
    {
     "name": "stdout",
     "output_type": "stream",
     "text": [
      "[-1.78926584  0.13062081 -1.62930181  0.50685778 -0.95754977  1.47057298\n",
      " -0.19156856 -1.85606335 -1.10671282  0.21677691]\n",
      "(10,)\n"
     ]
    },
    {
     "data": {
      "image/png": "[encoded data removed]",
      "text/plain": [
       "<matplotlib.figure.Figure at 0x7f41154cbef0>"
      ]
     },
     "metadata": {},
     "output_type": "display_data"
    },
    {
     "name": "stdout",
     "output_type": "stream",
     "text": [
      "(3, 4, 2)\n"
     ]
    }
   ],
   "source": [
    "s = np.random.standard_normal(10)\n",
    "print(s)\n",
    "print(s.shape)\n",
    "\n",
    "\n",
    "plt.plot(s)\n",
    "plt.show()\n",
    "\n",
    "s1 = np.random.standard_normal(size=(3,4,2))\n",
    "print(s1.shape)"
   ]
  },
  {
   "cell_type": "code",
   "execution_count": 24,
   "metadata": {},
   "outputs": [
    {
     "name": "stdout",
     "output_type": "stream",
     "text": [
      "[8 7 3 0 4 9 1 5 2 6]\n",
      "[ 9 15 12  4  1]\n",
      "[[0 1 2]\n",
      " [3 4 5]\n",
      " [6 7 8]]\n",
      "[[3 4 5]\n",
      " [6 7 8]\n",
      " [0 1 2]]\n"
     ]
    }
   ],
   "source": [
    "#섞는ㄷㅏ \n",
    "arr = np.random.permutation(10)\n",
    "print(arr)\n",
    "\n",
    "arr1 = np.random.permutation([1,4,9,12,15])\n",
    "print(arr1)\n",
    "\n",
    "arr2 = np.arange(9).reshape((3,3))\n",
    "print(arr2)\n",
    "\n",
    "arr3 = np.random.permutation(arr2)\n",
    "print(arr3)"
   ]
  },
  {
   "cell_type": "code",
   "execution_count": 25,
   "metadata": {},
   "outputs": [
    {
     "name": "stdout",
     "output_type": "stream",
     "text": [
      "[2 0 4]\n",
      "[4 1 0]\n"
     ]
    }
   ],
   "source": [
    "a = np.random.choice(5, 3, replace = False) #사이즈 변경 불가\n",
    "print(a)\n",
    "\n",
    "b = np.random.permutation(np.arange(5))[:3]\n",
    "print(b)"
   ]
  },
  {
   "cell_type": "code",
   "execution_count": null,
   "metadata": {
    "collapsed": true
   },
   "outputs": [],
   "source": []
  }
 ],
 "metadata": {
  "kernelspec": {
   "display_name": "Python 3",
   "language": "python",
   "name": "python3"
  },
  "language_info": {
   "codemirror_mode": {
    "name": "ipython",
    "version": 3
   },
   "file_extension": ".py",
   "mimetype": "text/x-python",
   "name": "python",
   "nbconvert_exporter": "python",
   "pygments_lexer": "ipython3",
   "version": "3.5.2"
  }
 },
 "nbformat": 4,
 "nbformat_minor": 2
}
