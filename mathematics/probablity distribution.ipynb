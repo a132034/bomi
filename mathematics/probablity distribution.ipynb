{
 "cells": [
  {
   "cell_type": "code",
   "execution_count": 5,
   "metadata": {
    "collapsed": true
   },
   "outputs": [],
   "source": [
    "from sympy.stats import Die, density, given"
   ]
  },
  {
   "cell_type": "code",
   "execution_count": 2,
   "metadata": {},
   "outputs": [
    {
     "name": "stdout",
     "output_type": "stream",
     "text": [
      "D6 <class 'sympy.stats.rv.RandomSymbol'>\n",
      "{1: 1/6, 2: 1/6, 3: 1/6, 4: 1/6, 5: 1/6, 6: 1/6}\n"
     ]
    }
   ],
   "source": [
    "D6 = Die('D6', 6) # Six sided Die\n",
    "print(D6, type(D6))\n",
    "print(density(D6).dict)"
   ]
  },
  {
   "cell_type": "code",
   "execution_count": 4,
   "metadata": {},
   "outputs": [
    {
     "name": "stdout",
     "output_type": "stream",
     "text": [
      "Help on function Die in module sympy.stats.frv_types:\n",
      "\n",
      "Die(name, sides=6)\n",
      "    Create a Finite Random Variable representing a fair die.\n",
      "    \n",
      "    Returns a RandomSymbol.\n",
      "    \n",
      "    >>> from sympy.stats import Die, density\n",
      "    \n",
      "    >>> D6 = Die('D6', 6) # Six sided Die\n",
      "    >>> density(D6).dict\n",
      "    {1: 1/6, 2: 1/6, 3: 1/6, 4: 1/6, 5: 1/6, 6: 1/6}\n",
      "    \n",
      "    >>> D4 = Die('D4', 4) # Four sided Die\n",
      "    >>> density(D4).dict\n",
      "    {1: 1/4, 2: 1/4, 3: 1/4, 4: 1/4}\n",
      "\n"
     ]
    }
   ],
   "source": [
    "help(Die)"
   ]
  },
  {
   "cell_type": "code",
   "execution_count": 6,
   "metadata": {},
   "outputs": [
    {
     "name": "stdout",
     "output_type": "stream",
     "text": [
      "{1: 1/6, 2: 1/6, 3: 1/6, 4: 1/6, 5: 1/6, 6: 1/6}\n",
      "X <class 'sympy.stats.rv.RandomSymbol'>\n",
      "{4: 1/3, 5: 1/3, 6: 1/3}\n"
     ]
    }
   ],
   "source": [
    "X = Die('X', 6)\n",
    "print(density(X).dict)\n",
    "\n",
    "Y = given(X, X>3)\n",
    "print(Y, type(Y))\n",
    "print(density(Y).dict)"
   ]
  },
  {
   "cell_type": "code",
   "execution_count": 3,
   "metadata": {
    "collapsed": true
   },
   "outputs": [],
   "source": [
    "import matplotlib.pyplot as plt\n",
    "import numpy as np"
   ]
  },
  {
   "cell_type": "code",
   "execution_count": 11,
   "metadata": {},
   "outputs": [
    {
     "name": "stdout",
     "output_type": "stream",
     "text": [
      "int64\n",
      "50\n"
     ]
    },
    {
     "data": {
      "image/png": "[encoded data removed]",
      "text/plain": [
       "<matplotlib.figure.Figure at 0x7f64fd35c198>"
      ]
     },
     "metadata": {},
     "output_type": "display_data"
    }
   ],
   "source": [
    "x = np.random.randint(0.,100,(50,2))\n",
    "#plt.figure(figsize=(4,3))\n",
    "print(x.dtype)\n",
    "\n",
    "print(len(x[:,0]))\n",
    "\n",
    "plt.scatter(x[:,0], x[:,1])\n",
    "plt.show()"
   ]
  },
  {
   "cell_type": "code",
   "execution_count": 3,
   "metadata": {},
   "outputs": [
    {
     "data": {
      "image/png": "[encoded data removed]",
      "text/plain": [
       "<matplotlib.figure.Figure at 0x7fbc96106a90>"
      ]
     },
     "metadata": {},
     "output_type": "display_data"
    }
   ],
   "source": [
    "#연속균등분포\n",
    "plt.figure(figsize=(4,3))\n",
    "s = np.random.uniform(-1, 0, 1000)\n",
    "count, bins, ignored = plt.hist(s, 100, normed=True)\n",
    "plt.plot(bins, np.ones_like(bins), linewidth=2, color='r')\n",
    "plt.show()"
   ]
  },
  {
   "cell_type": "code",
   "execution_count": 5,
   "metadata": {},
   "outputs": [
    {
     "name": "stdout",
     "output_type": "stream",
     "text": [
      "(8000,)\n",
      "(3, 4, 2)\n"
     ]
    },
    {
     "data": {
      "image/png": "[encoded data removed]",
      "text/plain": [
       "<matplotlib.figure.Figure at 0x7fbc93b81fd0>"
      ]
     },
     "metadata": {},
     "output_type": "display_data"
    }
   ],
   "source": [
    "#정규분포\n",
    "s1 = np.random.standard_normal(8000)\n",
    "print(s1.shape)\n",
    "plt.figure(figsize=(4,3))\n",
    "s2 = np.random.standard_normal(size=(3,4,2))\n",
    "print(s2.shape)\n",
    "\n",
    "count, bins, ignored = plt.hist(s1, 15, normed=True)\n",
    "plt.plot(bins, np.ones_like(bins), linewidth=2, color='g')\n",
    "plt.show()"
   ]
  },
  {
   "cell_type": "code",
   "execution_count": 1,
   "metadata": {
    "collapsed": true
   },
   "outputs": [],
   "source": [
    "from scipy import stats"
   ]
  },
  {
   "cell_type": "code",
   "execution_count": 9,
   "metadata": {},
   "outputs": [
    {
     "data": {
      "image/png": "[encoded data removed]",
      "text/plain": [
       "<matplotlib.figure.Figure at 0x7fbc8bb83d30>"
      ]
     },
     "metadata": {},
     "output_type": "display_data"
    }
   ],
   "source": [
    "#확률 질량 함수 \n",
    "x = range(11) # 0 to 10\n",
    "y = stats.binom.pmf(x, 10, 0.5)\n",
    "\n",
    "plt.plot(x,y,\"o\", color=\"black\")\n",
    "\n",
    "#Format x-axis and y-axis\n",
    "plt.axis([-(max(x)-min(x))*0.05, max(x)*1.05, -0.01, max(y)*1.10])\n",
    "plt.xticks(x)\n",
    "plt.title(\"Binomial distribution PMF for tries = {0} & p = {1}\".format(10,0.5))\n",
    "plt.xlabel(\"Variate\")\n",
    "plt.ylabel(\"Probablity\")\n",
    "\n",
    "plt.show()"
   ]
  },
  {
   "cell_type": "code",
   "execution_count": 4,
   "metadata": {},
   "outputs": [
    {
     "data": {
      "image/png": "[encoded data removed]",
      "text/plain": [
       "<matplotlib.figure.Figure at 0x7f7cfc42c7f0>"
      ]
     },
     "metadata": {},
     "output_type": "display_data"
    }
   ],
   "source": [
    "#PDF of Gaussian of mean = 0.0 and std. deviation = 1.0 at 0. PDF함수 \n",
    "x = [-0.4, -0.3, -0.2, -0.1, 0.0, 0.1, 0.2, 0.3, 0,4]\n",
    "s1 = stats.norm.pdf(x, loc=0.0, scale=1.0)\n",
    "plt.plot(s1, \"o\", color=\"black\")\n",
    "\n",
    "#Format x-axis and y-axit.\n",
    "\n",
    "plt.title (\"normal distribution PMF for loc= {0} & scale= {1}\".format(0.0, 1.0))\n",
    "plt.xlabel(\"Variate\")\n",
    "plt.ylabel(\"Probablity\")\n",
    "\n",
    "plt.show()"
   ]
  },
  {
   "cell_type": "code",
   "execution_count": 15,
   "metadata": {
    "collapsed": true
   },
   "outputs": [],
   "source": [
    "from sympy.stats import DiscreteUniform, density\n",
    "from sympy.stats import Die, Normal\n",
    "from sympy import symbols\n",
    "from scipy.stats import uniform"
   ]
  },
  {
   "cell_type": "code",
   "execution_count": 12,
   "metadata": {},
   "outputs": [
    {
     "name": "stdout",
     "output_type": "stream",
     "text": [
      "{a: 1/3, c: 1/3, b: 1/3}\n",
      "{0: 1/5, 1: 1/5, 2: 1/5, 3: 1/5, 4: 1/5}\n"
     ]
    }
   ],
   "source": [
    "X = DiscreteUniform('X', symbols('a b c'))\n",
    "print(density(X).dict)\n",
    "\n",
    "Y = DiscreteUniform('Y', list(range(5)))\n",
    "print(density(Y).dict)"
   ]
  },
  {
   "cell_type": "code",
   "execution_count": 14,
   "metadata": {},
   "outputs": [
    {
     "name": "stdout",
     "output_type": "stream",
     "text": [
      "NormalDistribution(0, 1)\n",
      "sqrt(2)*exp(-x**2/2)/(2*sqrt(pi))\n"
     ]
    }
   ],
   "source": [
    "x = symbols('x')\n",
    "X = Normal(x, 0, 1)\n",
    "\n",
    "print(density(X))\n",
    "print(density(X)(x))"
   ]
  },
  {
   "cell_type": "code",
   "execution_count": 16,
   "metadata": {},
   "outputs": [
    {
     "name": "stdout",
     "output_type": "stream",
     "text": [
      "[ 0.    0.    0.25  0.5   0.75  1.  ]\n",
      "[ 0.   0.2  0.4  0.6  0.8  1. ]\n"
     ]
    }
   ],
   "source": [
    "print(uniform.cdf([0,1,2,3,4,5],loc = 1, scale = 4))\n",
    "print(uniform.cdf([0,1,2,3,4,5],loc = 0, scale = 5))"
   ]
  },
  {
   "cell_type": "code",
   "execution_count": 17,
   "metadata": {},
   "outputs": [
    {
     "data": {
      "image/png": "[encoded data removed]",
      "text/plain": [
       "<matplotlib.figure.Figure at 0x7f7cf9220e80>"
      ]
     },
     "metadata": {},
     "output_type": "display_data"
    }
   ],
   "source": [
    "mean = 0.0\n",
    "std = 1.0\n",
    "#50 numbers between -3a and 3a\n",
    "x = np.linspace(-3*std, 3*std, 50)\n",
    "# CDF at these values\n",
    "y = stats.norm.cdf(x, loc=mean, scale=std)\n",
    "\n",
    "plt.plot(x,y, color=\"black\")\n",
    "plt.xlabel(\"Variate\")\n",
    "plt.ylabel(\"Cumulative Probablity\")\n",
    "plt.title(\"CDF for Gaussian of mean = {0} & std. deviation = {1}\".format(mean,std))\n",
    "\n",
    "plt.show()"
   ]
  },
  {
   "cell_type": "code",
   "execution_count": null,
   "metadata": {
    "collapsed": true
   },
   "outputs": [],
   "source": []
  }
 ],
 "metadata": {
  "kernelspec": {
   "display_name": "Python 3",
   "language": "python",
   "name": "python3"
  },
  "language_info": {
   "codemirror_mode": {
    "name": "ipython",
    "version": 3
   },
   "file_extension": ".py",
   "mimetype": "text/x-python",
   "name": "python",
   "nbconvert_exporter": "python",
   "pygments_lexer": "ipython3",
   "version": "3.5.2"
  }
 },
 "nbformat": 4,
 "nbformat_minor": 2
}
