{
 "cells": [
  {
   "cell_type": "code",
   "execution_count": 1,
   "metadata": {
    "collapsed": true
   },
   "outputs": [],
   "source": [
    "import numpy as np"
   ]
  },
  {
   "cell_type": "code",
   "execution_count": 6,
   "metadata": {},
   "outputs": [
    {
     "name": "stdout",
     "output_type": "stream",
     "text": [
      "[   1.   12.   23.   34.   45.   56.   67.   78.   89.  100.]\n",
      "11.0\n",
      "505.0\n"
     ]
    }
   ],
   "source": [
    "x = np.linspace(1,100,10)\n",
    "cd = x[1]-x[0]\n",
    "\n",
    "print(x)\n",
    "\n",
    "print(cd)\n",
    "print(np.sum(x))\n",
    "s1 = len(x) * (x[0]*(x[9]))/2"
   ]
  },
  {
   "cell_type": "code",
   "execution_count": 9,
   "metadata": {},
   "outputs": [
    {
     "name": "stdout",
     "output_type": "stream",
     "text": [
      "[ 11.  11.  11.  11.  11.  11.  11.  11.  11.  11.]\n",
      "55.0\n"
     ]
    }
   ],
   "source": [
    "x = np.linspace(1,10,10)\n",
    "y = np.linspace(1,10,10)\n",
    "z = sorted(y, reverse=True)\n",
    "\n",
    "print(x+z)\n",
    "print(np.sum(x+z)/2)"
   ]
  },
  {
   "cell_type": "code",
   "execution_count": 10,
   "metadata": {},
   "outputs": [
    {
     "name": "stdout",
     "output_type": "stream",
     "text": [
      "55.0\n",
      "55.0\n"
     ]
    }
   ],
   "source": [
    "a = 1\n",
    "d = 1\n",
    "n = 10\n",
    "\n",
    "s1 = n*(a+(a*d*n))/2\n",
    "print(s1)\n",
    "s = (n*(2*a+(n-1)*d))/2\n",
    "print(s)"
   ]
  },
  {
   "cell_type": "code",
   "execution_count": 11,
   "metadata": {},
   "outputs": [
    {
     "name": "stdout",
     "output_type": "stream",
     "text": [
      "[ 1.  1.  1.  1.  1.  1.  1.  1.  1.  1.]\n",
      "[    2.     4.     8.    16.    32.    64.   128.   256.   512.  1024.]\n",
      "common ration 2.0\n"
     ]
    }
   ],
   "source": [
    "x = np.ones(10)\n",
    "print(x)\n",
    "n = np.linspace(1,10,10)\n",
    "r = 2**n\n",
    "y = x*r\n",
    "print(y)\n",
    "print(\"common ration\", y[1]/y[0])"
   ]
  },
  {
   "cell_type": "code",
   "execution_count": 12,
   "metadata": {},
   "outputs": [
    {
     "name": "stdout",
     "output_type": "stream",
     "text": [
      "2.0\n",
      "2.0\n",
      "10\n",
      "2046.0\n"
     ]
    }
   ],
   "source": [
    "cr = y[1]/y[0]\n",
    "print(cr)\n",
    "a = y[0]\n",
    "print(a)\n",
    "nn = len(n)\n",
    "print(nn)\n",
    "\n",
    "zz = (a*(1-cr**nn))/(1-cr)\n",
    "print(zz)"
   ]
  },
  {
   "cell_type": "code",
   "execution_count": null,
   "metadata": {
    "collapsed": true
   },
   "outputs": [],
   "source": []
  }
 ],
 "metadata": {
  "kernelspec": {
   "display_name": "Python 3",
   "language": "python",
   "name": "python3"
  },
  "language_info": {
   "codemirror_mode": {
    "name": "ipython",
    "version": 3
   },
   "file_extension": ".py",
   "mimetype": "text/x-python",
   "name": "python",
   "nbconvert_exporter": "python",
   "pygments_lexer": "ipython3",
   "version": "3.5.2"
  }
 },
 "nbformat": 4,
 "nbformat_minor": 2
}
