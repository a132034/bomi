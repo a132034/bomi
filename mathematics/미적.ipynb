{
 "cells": [
  {
   "cell_type": "code",
   "execution_count": 2,
   "metadata": {
    "collapsed": true
   },
   "outputs": [],
   "source": [
    "from sympy import limit, sin, Symbol, oo\n",
    "from sympy.abc import x"
   ]
  },
  {
   "cell_type": "code",
   "execution_count": 4,
   "metadata": {},
   "outputs": [
    {
     "name": "stdout",
     "output_type": "stream",
     "text": [
      "1\n",
      "oo\n",
      "-oo\n",
      "0\n"
     ]
    }
   ],
   "source": [
    "#limit 함수 파라미터 : 함수, 변수, limit값, dir은 극한값으로 접근방향\n",
    "print(limit(sin(x)/x, x, 0))\n",
    "\n",
    "#우 극한값으로 접근, x>0 크면서 접근\n",
    "print(limit(1/x, x, 0, dir=\"+\"))\n",
    "\n",
    "#좌 극한값으로 접근 x<0 작으면서 접근\n",
    "print(limit(1/x, x, 0, dir='-'))\n",
    "\n",
    "print(limit(1/x, x, oo))"
   ]
  },
  {
   "cell_type": "code",
   "execution_count": 6,
   "metadata": {
    "collapsed": true
   },
   "outputs": [],
   "source": [
    "from __future__ import division\n",
    "from sympy import *"
   ]
  },
  {
   "cell_type": "code",
   "execution_count": 7,
   "metadata": {},
   "outputs": [
    {
     "name": "stdout",
     "output_type": "stream",
     "text": [
      "0\n"
     ]
    }
   ],
   "source": [
    "print(diff(2,x))"
   ]
  },
  {
   "cell_type": "code",
   "execution_count": 8,
   "metadata": {},
   "outputs": [
    {
     "name": "stdout",
     "output_type": "stream",
     "text": [
      "Help on function diff in module sympy.core.function:\n",
      "\n",
      "diff(f, *symbols, **kwargs)\n",
      "    Differentiate f with respect to symbols.\n",
      "    \n",
      "    This is just a wrapper to unify .diff() and the Derivative class; its\n",
      "    interface is similar to that of integrate().  You can use the same\n",
      "    shortcuts for multiple variables as with Derivative.  For example,\n",
      "    diff(f(x), x, x, x) and diff(f(x), x, 3) both return the third derivative\n",
      "    of f(x).\n",
      "    \n",
      "    You can pass evaluate=False to get an unevaluated Derivative class.  Note\n",
      "    that if there are 0 symbols (such as diff(f(x), x, 0), then the result will\n",
      "    be the function (the zeroth derivative), even if evaluate=False.\n",
      "    \n",
      "    Examples\n",
      "    ========\n",
      "    \n",
      "    >>> from sympy import sin, cos, Function, diff\n",
      "    >>> from sympy.abc import x, y\n",
      "    >>> f = Function('f')\n",
      "    \n",
      "    >>> diff(sin(x), x)\n",
      "    cos(x)\n",
      "    >>> diff(f(x), x, x, x)\n",
      "    Derivative(f(x), x, x, x)\n",
      "    >>> diff(f(x), x, 3)\n",
      "    Derivative(f(x), x, x, x)\n",
      "    >>> diff(sin(x)*cos(y), x, 2, y, 2)\n",
      "    sin(x)*cos(y)\n",
      "    \n",
      "    >>> type(diff(sin(x), x))\n",
      "    cos\n",
      "    >>> type(diff(sin(x), x, evaluate=False))\n",
      "    <class 'sympy.core.function.Derivative'>\n",
      "    >>> type(diff(sin(x), x, 0))\n",
      "    sin\n",
      "    >>> type(diff(sin(x), x, 0, evaluate=False))\n",
      "    sin\n",
      "    \n",
      "    >>> diff(sin(x))\n",
      "    cos(x)\n",
      "    >>> diff(sin(x*y))\n",
      "    Traceback (most recent call last):\n",
      "    ...\n",
      "    ValueError: specify differentiation variables to differentiate sin(x*y)\n",
      "    \n",
      "    Note that ``diff(sin(x))`` syntax is meant only for convenience\n",
      "    in interactive sessions and should be avoided in library code.\n",
      "    \n",
      "    References\n",
      "    ==========\n",
      "    \n",
      "    http://reference.wolfram.com/legacy/v5_2/Built-inFunctions/AlgebraicComputation/Calculus/D.html\n",
      "    \n",
      "    See Also\n",
      "    ========\n",
      "    \n",
      "    Derivative\n",
      "    sympy.geometry.util.idiff: computes the derivative implicitly\n",
      "\n"
     ]
    }
   ],
   "source": [
    "help(diff)"
   ]
  },
  {
   "cell_type": "code",
   "execution_count": 9,
   "metadata": {},
   "outputs": [
    {
     "name": "stdout",
     "output_type": "stream",
     "text": [
      "4*x\n"
     ]
    }
   ],
   "source": [
    "x = symbols('x')\n",
    "print(diff(2*x**2, x))"
   ]
  },
  {
   "cell_type": "code",
   "execution_count": 10,
   "metadata": {},
   "outputs": [
    {
     "name": "stdout",
     "output_type": "stream",
     "text": [
      "10*x**9\n"
     ]
    }
   ],
   "source": [
    "x = symbols('x')\n",
    "n = symbols('n', integer=True)\n",
    "n = 10\n",
    "print(diff(x**n, x))"
   ]
  },
  {
   "cell_type": "code",
   "execution_count": 11,
   "metadata": {},
   "outputs": [
    {
     "name": "stdout",
     "output_type": "stream",
     "text": [
      "2*x\n",
      "4*x\n"
     ]
    }
   ],
   "source": [
    "x,y,z,t = symbols('x y z t')\n",
    "k, m, n = symbols('k m n', integer=True)\n",
    "f, g, h = symbols('f g h', cls=Function)\n",
    "\n",
    "n = 2\n",
    "f = x**n\n",
    "g = x**n\n",
    "h = f + g\n",
    "\n",
    "print(diff(f,x))\n",
    "print(diff(h,x))"
   ]
  },
  {
   "cell_type": "code",
   "execution_count": 13,
   "metadata": {},
   "outputs": [
    {
     "name": "stdout",
     "output_type": "stream",
     "text": [
      "2*x\n",
      "2*x\n",
      "4*x**3\n",
      "4*x**3\n"
     ]
    }
   ],
   "source": [
    "x,y,z,t = symbols('x y z t')\n",
    "k, m, n = symbols('k m n', integer=True)\n",
    "f, g, h = symbols('f g h', cls=Function)\n",
    "\n",
    "n = 2\n",
    "f = x**n\n",
    "g = x**n\n",
    "h = f * g\n",
    "\n",
    "print(diff(f,x))\n",
    "print(diff(g,x))\n",
    "print(diff(h,x))\n",
    "print(diff(f,x)*g + f*diff(g,x))"
   ]
  },
  {
   "cell_type": "code",
   "execution_count": 14,
   "metadata": {},
   "outputs": [
    {
     "name": "stdout",
     "output_type": "stream",
     "text": [
      "Abs(x)\n",
      "0\n",
      "1\n",
      "(re(x)*Derivative(re(x), x) + im(x)*Derivative(im(x), x))/Abs(x)\n"
     ]
    }
   ],
   "source": [
    "x,y,z,t = symbols('x y z t')\n",
    "k, m, n = symbols('k m n', integer=True)\n",
    "f, g, h = symbols('f g h', cls=Function)\n",
    "\n",
    "n = 2\n",
    "f = 10\n",
    "g = x\n",
    "\n",
    "h = abs(x)\n",
    "print(h)\n",
    "\n",
    "\n",
    "print(diff(f,x))\n",
    "print(diff(g,x))\n",
    "print(diff(h,x))"
   ]
  },
  {
   "cell_type": "code",
   "execution_count": 15,
   "metadata": {},
   "outputs": [
    {
     "name": "stdout",
     "output_type": "stream",
     "text": [
      "-1/x**2\n",
      "1/(2*sqrt(x))\n",
      "2*x\n"
     ]
    }
   ],
   "source": [
    "x,y,z,t = symbols('x y z t')\n",
    "k, m, n = symbols('k m n', integer=True)\n",
    "f, g, h = symbols('f g h', cls=Function)\n",
    "\n",
    "n = 2\n",
    "f = 1/x\n",
    "g = sqrt(x)\n",
    "h = x**n\n",
    "\n",
    "print(diff(f,x))\n",
    "print(diff(g,x))\n",
    "print(diff(h,x))"
   ]
  },
  {
   "cell_type": "code",
   "execution_count": 16,
   "metadata": {},
   "outputs": [
    {
     "name": "stdout",
     "output_type": "stream",
     "text": [
      "20*x**19 + 380*x**18 + 3420*x**17 + 19380*x**16 + 77520*x**15 + 232560*x**14 + 542640*x**13 + 1007760*x**12 + 1511640*x**11 + 1847560*x**10 + 1847560*x**9 + 1511640*x**8 + 1007760*x**7 + 542640*x**6 + 232560*x**5 + 77520*x**4 + 19380*x**3 + 3420*x**2 + 380*x + 20\n",
      "20*(x + 1)**19\n"
     ]
    }
   ],
   "source": [
    "x, y, z = symbols('x y z')\n",
    "f, g, h = symbols('f g h', cls=Function)\n",
    "f = expand((x+1)**20)\n",
    "\n",
    "g = diff(f,x)\n",
    "print(g)\n",
    "print(factor(g))"
   ]
  },
  {
   "cell_type": "code",
   "execution_count": 17,
   "metadata": {},
   "outputs": [
    {
     "name": "stdout",
     "output_type": "stream",
     "text": [
      "x**2/2\n"
     ]
    }
   ],
   "source": [
    "x = symbols('x')\n",
    "print(integrate(x,x))"
   ]
  },
  {
   "cell_type": "code",
   "execution_count": 19,
   "metadata": {},
   "outputs": [
    {
     "name": "stdout",
     "output_type": "stream",
     "text": [
      "x**3/3\n",
      "2*x**3/3\n"
     ]
    }
   ],
   "source": [
    "a = symbols('k m n', integer=True)\n",
    "f, g, h = symbols('f g h', cls=Function)\n",
    "x = symbols('x')\n",
    "f = x**2\n",
    "print(integrate(f,x))\n",
    "print(integrate(2*f, x))\n"
   ]
  },
  {
   "cell_type": "code",
   "execution_count": 21,
   "metadata": {},
   "outputs": [
    {
     "name": "stdout",
     "output_type": "stream",
     "text": [
      "Piecewise((log(x), Eq(n, -1)), (x**(n + 1)/(n + 1), True))\n"
     ]
    }
   ],
   "source": [
    "a = symbols('a', integer=True)\n",
    "f, g, h = symbols('f g h', cls=Function)\n",
    "x, n = symbols('x n')\n",
    "f = x ** n\n",
    "\n",
    "print(integrate(f,x))"
   ]
  },
  {
   "cell_type": "code",
   "execution_count": 26,
   "metadata": {},
   "outputs": [
    {
     "name": "stdout",
     "output_type": "stream",
     "text": [
      "2*x\n",
      "2*x**3\n",
      "x**4/2\n"
     ]
    }
   ],
   "source": [
    "a = symbols('k m n', integer=True)\n",
    "f, g, h = symbols('f g h', cls=Function)\n",
    "x = symbols('x')\n",
    "f = x**2\n",
    "\n",
    "print(diff(f,x))\n",
    "print(diff(f,x)*f)\n",
    "print(integrate(diff(f,x)*f,x))"
   ]
  },
  {
   "cell_type": "code",
   "execution_count": 27,
   "metadata": {},
   "outputs": [
    {
     "name": "stdout",
     "output_type": "stream",
     "text": [
      "x**3/3 + x**2/2\n",
      "x**3/3 + x**2/2\n"
     ]
    }
   ],
   "source": [
    "a = symbols('a', integer=True)\n",
    "f, g, h = symbols('f g h', cls=Function)\n",
    "x, n = symbols('x n')\n",
    "f = x**2\n",
    "g = x\n",
    "\n",
    "print(integrate(f+g, x))\n",
    "print(integrate(f, x) + integrate(g, x))"
   ]
  },
  {
   "cell_type": "code",
   "execution_count": 28,
   "metadata": {},
   "outputs": [
    {
     "name": "stdout",
     "output_type": "stream",
     "text": [
      "2*x\n",
      "Piecewise((None, Eq(n, -1/2)), (x*(x**2)**n/(2*n + 1), True))\n",
      "2*Piecewise((log(x), Eq(n, -1)), (x**2*(x**2)**n/(2*n + 2), True))\n"
     ]
    }
   ],
   "source": [
    "a = symbols('a', integer=True)\n",
    "f, g, h = symbols('f g h', cls=Function)\n",
    "x, n = symbols('x n')\n",
    "f = x**2\n",
    "g = diff(f)\n",
    "\n",
    "print(g)\n",
    "print(integrate(f**n, x))\n",
    "print(integrate(f**n * g, x))"
   ]
  },
  {
   "cell_type": "code",
   "execution_count": null,
   "metadata": {
    "collapsed": true
   },
   "outputs": [],
   "source": []
  }
 ],
 "metadata": {
  "kernelspec": {
   "display_name": "Python 3",
   "language": "python",
   "name": "python3"
  },
  "language_info": {
   "codemirror_mode": {
    "name": "ipython",
    "version": 3
   },
   "file_extension": ".py",
   "mimetype": "text/x-python",
   "name": "python",
   "nbconvert_exporter": "python",
   "pygments_lexer": "ipython3",
   "version": "3.5.2"
  }
 },
 "nbformat": 4,
 "nbformat_minor": 2
}
