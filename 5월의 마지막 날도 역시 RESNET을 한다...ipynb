{
 "cells": [
  {
   "cell_type": "markdown",
   "metadata": {},
   "source": [
    "1. augmentation 이해하기.. \n",
    "2. test 따로 구현하기\n",
    "3. restore한 weight 이용해서 그림 하나 읽고 중간 필터 보여주기\n",
    "4. 오답의 레이블 저장해보기 \n",
    "5. 자비에 써보기 \n",
    "6. 드랍아웃 써보기\n",
    "7. 일단 여기까지 다음주.(6 1st)"
   ]
  }
 ],
 "metadata": {
  "kernelspec": {
   "display_name": "Python 3",
   "language": "python",
   "name": "python3"
  },
  "language_info": {
   "codemirror_mode": {
    "name": "ipython",
    "version": 3
   },
   "file_extension": ".py",
   "mimetype": "text/x-python",
   "name": "python",
   "nbconvert_exporter": "python",
   "pygments_lexer": "ipython3",
   "version": "3.5.2"
  }
 },
 "nbformat": 4,
 "nbformat_minor": 2
}
