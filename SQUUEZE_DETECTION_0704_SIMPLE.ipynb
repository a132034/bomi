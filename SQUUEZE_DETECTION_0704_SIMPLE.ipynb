{
 "cells": [
  {
   "cell_type": "markdown",
   "metadata": {},
   "source": [
    "# IMPORT"
   ]
  },
  {
   "cell_type": "code",
   "execution_count": 2,
   "metadata": {},
   "outputs": [
    {
     "name": "stdout",
     "output_type": "stream",
     "text": [
      "1.0.1\n"
     ]
    }
   ],
   "source": [
    "from __future__ import absolute_import\n",
    "from __future__ import division\n",
    "from __future__ import print_function\n",
    "\n",
    "import numpy as np\n",
    "import tensorflow as tf\n",
    "\n",
    "print(tf.__version__)"
   ]
  },
  {
   "cell_type": "markdown",
   "metadata": {},
   "source": [
    "# PATH & PARAMETER"
   ]
  },
  {
   "cell_type": "code",
   "execution_count": 5,
   "metadata": {},
   "outputs": [
    {
     "name": "stdout",
     "output_type": "stream",
     "text": [
      "config done\n"
     ]
    }
   ],
   "source": [
    "#KITTI DATASET \n",
    "TRAIN_DATA_PATH = '/data/training'\n",
    "TEST_DATA_PATH =  '/data/testing'\n",
    "\n",
    "IMAGE_WIDTH = 1248\n",
    "IMAGE_HEIGHT = 384\n",
    "IMAGE_CHANNEL = 3\n",
    "BATCH_SIZE = 20\n",
    "LR = 0.01\n",
    "LR_DACAY_FACTOR = 0.1\n",
    "LR_DECAY_STEPS = 10000\n",
    "WEIGHT_DECAY = 0.0001\n",
    "MAX_GRAD_NORM = 1.0\n",
    "\n",
    "LOSS_COEF_CLS = 1.0\n",
    "LOSS_COEF_BBOX = 5.0\n",
    "LOSS_COEF_CONF_POS = 75.0\n",
    "LOSS_COEF_CONF_NEG = 100.0\n",
    "\n",
    "DEBUG_MODE = True\n",
    "LOAD_PRETRAINED_MODEL = False\n",
    "PRETRAINED_MODEL_PATH = ''\n",
    "DATA_AUGMENTATION = True\n",
    "\n",
    "EXCLUDE_HARD_EXAMPLES = False\n",
    "NUM_THREAD = 8\n",
    "QUEUE_CAPAITY = 100\n",
    "IS_TRAINING = True\n",
    "\n",
    "MOMENTUM = 0.9\n",
    "EPSILON = 1e-16\n",
    "BATCH_NORM_EPSILON = 1e-5\n",
    "\n",
    "CLASS_NAMES = ('car', 'pedestrian', 'cyclist')\n",
    "CLASS_NUM = len(CLASS_NAMES)\n",
    "\n",
    "\n",
    "def set_anchors():\n",
    "    H, W, B = 24, 78, 9\n",
    "    anchor_shapes = np.reshape( #9개 앵커를 24 * 78개의 그리드에 \n",
    "      [np.array(\n",
    "          [[  36.,  37.], [ 366., 174.], [ 115.,  59.],\n",
    "           [ 162.,  87.], [  38.,  90.], [ 258., 173.],\n",
    "           [ 224., 108.], [  78., 170.], [  72.,  43.]])] * H * W,\n",
    "      (H, W, B, 2)\n",
    "    )\n",
    "    center_x = np.reshape(\n",
    "      np.transpose(\n",
    "          np.reshape(\n",
    "              np.array([np.arange(1, W+1)*float(IMAGE_WIDTH)/(W+1)]*H*B), \n",
    "              (B, H, W)\n",
    "          ),\n",
    "          (1, 2, 0)\n",
    "      ),\n",
    "      (H, W, B, 1)\n",
    "    )\n",
    "    center_y = np.reshape(\n",
    "      np.transpose(\n",
    "          np.reshape(\n",
    "              np.array([np.arange(1, H+1)*float(IMAGE_HEIGHT)/(H+1)]*W*B),\n",
    "              (B, W, H)\n",
    "          ),\n",
    "          (2, 1, 0)\n",
    "      ),\n",
    "      (H, W, B, 1)\n",
    "    )\n",
    "    anchors = np.reshape(\n",
    "      np.concatenate((center_x, center_y, anchor_shapes), axis=3),\n",
    "      (-1, 4)\n",
    "    )\n",
    "\n",
    "    return anchors\n",
    "\n",
    "ANCHOR_BOX = set_anchors()\n",
    "ANCHORS = len(ANCHOR_BOX)\n",
    "ANCHOR_PER_GRID = 9\n",
    "\n",
    "print('config done')\n",
    "\n",
    "\n",
    "#그 외에 필요할만한 파라미터들은 이후에 만들면서 정의하도록 하자. \n",
    "NUM_TRAIN_DATA = 7481\n",
    "NUM_EPOCH = 500\n",
    "NUM_BATCHES_PER_EPOCH = NUM_TRAIN_DATA / NUM_EPOCH\n",
    "NUM_TEST_DATA = 7518 # ls -al | wc -l로 셈. . .. total도 카운트되서 3개 뺌\n",
    "NUM_TEST_PER_EPOCH = NUM_TEST_DATA / NUM_EPOCH"
   ]
  },
  {
   "cell_type": "markdown",
   "metadata": {},
   "source": [
    "# UTIL FUNCTION"
   ]
  },
  {
   "cell_type": "code",
   "execution_count": 6,
   "metadata": {
    "collapsed": true
   },
   "outputs": [],
   "source": [
    "#iou 및 corrdinates 변환 등등\n",
    "\n",
    "def iou(box1, box2):\n",
    "    lr = min(box1[0] + 0.5*box1[2], box2[0] + 0.5*box2[2]) - \\\n",
    "        max(box1[0] - 0.5*box1[2], box2[0] - 0.5*box2[2])\n",
    "    \n",
    "    if lr > 0: #겹치면\n",
    "        tb = min(box1[1] + 0.5*box1[3], box2[1] + 0.5*box2[3]) - \\\n",
    "            max(box1[1] - 0.5*box1[3], box2[1] - 0.5*box2[3])\n",
    "        if tb > 0: #상하도 겹치면\n",
    "            intersection = tb * lr\n",
    "            union = box1[2]*box1[3] + box2[2]*box2[3] - intersection\n",
    "            \n",
    "            return intersection / union\n",
    "    return 0\n",
    "\n",
    "def batch_iou(boxes, box): #박스 배치들과 하나의 박스 iou계산. 앵커 vs GT \n",
    "    lr = np.maximum(np.minimun(boxes[:,0] + 0.5*boxes[:,2], box[0] + 0.5*box[2]) - \\\n",
    "                   np.maximum(boxes[:,0] - 0.5*boxes[:,2], box[0] - 0.5*box[2]),\n",
    "                   0)\n",
    "    tb = np.maximum(np.minimun(boxes[:,1] + 0.5*boxes[:,3], box[1] + 0.5*box[3]) - \\\n",
    "                   np.maximum(boxes[:,1] - 0.5*boxes[:,3], box[1] - 0.5*box[3]),\n",
    "                   0)\n",
    "    intersection = lr * tb\n",
    "    union = boxes[:,2]*boxes[:,3] + box[2]*box[3] - intersection\n",
    "    \n",
    "    return intersection / union\n",
    "    \n",
    "\n",
    "def bbox_transform(bbox): # center -> minmax\n",
    "    with tf.variable_scope('bbox_transform') as scope:\n",
    "        cx, cy, w, h = bbox\n",
    "        out_box = [[]]*4\n",
    "        out_box[0] = cx-w/2\n",
    "        out_box[1] = cy-h/2\n",
    "        out_box[2] = cx+w/2\n",
    "        out_box[3] = cy+h/2"
   ]
  },
  {
   "cell_type": "markdown",
   "metadata": {},
   "source": [
    "# INPUT DATA"
   ]
  },
  {
   "cell_type": "code",
   "execution_count": null,
   "metadata": {
    "collapsed": true
   },
   "outputs": [],
   "source": [
    "# kitti dataset에 맞게 그냥 kitti로 해보자. \n"
   ]
  },
  {
   "cell_type": "markdown",
   "metadata": {},
   "source": [
    "# OPERATION"
   ]
  },
  {
   "cell_type": "markdown",
   "metadata": {},
   "source": [
    "# TRAIN"
   ]
  }
 ],
 "metadata": {
  "kernelspec": {
   "display_name": "Python 3",
   "language": "python",
   "name": "python3"
  },
  "language_info": {
   "codemirror_mode": {
    "name": "ipython",
    "version": 3
   },
   "file_extension": ".py",
   "mimetype": "text/x-python",
   "name": "python",
   "nbconvert_exporter": "python",
   "pygments_lexer": "ipython3",
   "version": "3.5.2"
  }
 },
 "nbformat": 4,
 "nbformat_minor": 2
}
