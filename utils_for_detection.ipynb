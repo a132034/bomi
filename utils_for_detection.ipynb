{
 "cells": [
  {
   "cell_type": "code",
   "execution_count": 1,
   "metadata": {
    "collapsed": true
   },
   "outputs": [],
   "source": [
    "import numpy as np\n",
    "import time\n",
    "import tensorflow as tf"
   ]
  },
  {
   "cell_type": "code",
   "execution_count": 2,
   "metadata": {
    "collapsed": true
   },
   "outputs": [],
   "source": [
    "# iou 계산 함수\n",
    "def iou(box1, box2): #box1, box2 -> center x, y / width , height\n",
    "    \"\"\"Compute the Intersection-Over-Union of two given boxes.\n",
    "\n",
    "    Args:\n",
    "    box1: array of 4 elements [cx, cy, width, height].\n",
    "    box2: same as above\n",
    "    Returns:\n",
    "    iou: a float number in range [0, 1]. iou of the two boxes.\n",
    "    \"\"\"\n",
    "    # left-right? box1,2 중 작은 오른쪽 x좌표 - 큰 왼쪽 x좌표 -> 겹치는 x구간\n",
    "    lr = min(box1[0]+0.5*box1[2], box2[0]+0.5*box2[2]) - \\\n",
    "        max(box1[0]-0.5*box1[2], box2[0]-0.5*box2[2])\n",
    "    if lr > 0:\n",
    "        # top-bottom? box1,2 중 작은 아래쪽 y좌표 - 큰 위쪽 y좌표 -> 겹치는 구간\n",
    "        tb = min(box1[1]+0.5*box1[3], box2[1]+0.5*box2[3]) - \\\n",
    "        max(box1[1]-0.5*box1[3], box2[1]-0.5*box2[3])\n",
    "        if tb > 0: # 둘다 0보다 크다면 겹치는 구간이 존재함. \n",
    "            intersection = tb*lr #겹치는 구간 면적 계산\n",
    "            union = box1[2]*box1[3]+box2[2]*box2[3]-intersection # 전체 면적 계산\n",
    "\n",
    "            return intersection/union #결과 리턴 \n",
    "    return 0"
   ]
  },
  {
   "cell_type": "code",
   "execution_count": 4,
   "metadata": {
    "collapsed": true
   },
   "outputs": [],
   "source": [
    "#배치로 IOU 계산 > box2는 아마 GT가 들어올 것 같음. box1은 여러 anchor? \n",
    "def batch_iou(boxes, box):\n",
    "    \"\"\"Compute the Intersection-Over-Union of a batch of boxes with another\n",
    "    box.\n",
    "\n",
    "    Args:\n",
    "    box1: 2D array of [cx, cy, width, height].\n",
    "    box2: a single array of [cx, cy, width, height]\n",
    "    Returns:\n",
    "    ious: array of a float number in range [0, 1].\n",
    "    \"\"\"\n",
    "    lr = np.maximum(#가장 lr이 큰 것 (0보다 큰 것 중)\n",
    "        np.minimum(boxes[:,0]+0.5*boxes[:,2], box[0]+0.5*box[2]) - \\\n",
    "        np.maximum(boxes[:,0]-0.5*boxes[:,2], box[0]-0.5*box[2]),\n",
    "        0\n",
    "    )\n",
    "    tb = np.maximum( #가장 tb가 큰 것 (0보다 큰 것 중)\n",
    "        np.minimum(boxes[:,1]+0.5*boxes[:,3], box[1]+0.5*box[3]) - \\\n",
    "        np.maximum(boxes[:,1]-0.5*boxes[:,3], box[1]-0.5*box[3]),\n",
    "        0\n",
    "    )\n",
    "    inter = lr*tb #동일\n",
    "    union = boxes[:,2]*boxes[:,3] + box[2]*box[3] - inter \n",
    "    return inter/union"
   ]
  },
  {
   "cell_type": "code",
   "execution_count": 5,
   "metadata": {
    "collapsed": true
   },
   "outputs": [],
   "source": [
    "# non-maximun supression.. \n",
    "def nms(boxes, probs, threshold):\n",
    "    \"\"\"Non-Maximum supression.\n",
    "    Args:\n",
    "    boxes: array of [cx, cy, w, h] (center format)\n",
    "    probs: array of probabilities\n",
    "    threshold: two boxes are considered overlapping if their IOU is largher than\n",
    "        this threshold\n",
    "    form: 'center' or 'diagonal'\n",
    "    Returns:\n",
    "    keep: array of True or False.\n",
    "    \"\"\"\n",
    "    # probs는 각 박스에 대한 확률인데... confidence score? 인가 \n",
    "    # arg sort는 sort를 하는데 arg로 나타냄. [2,1,3] > [1,0,2] 가 됨 \n",
    "    # a.argsort()여기에 [::-1]이 붙으면 reverse가 되서 [2,0,1]이 됨. -1이 리버슨가..?\n",
    "    order = probs.argsort()[::-1]\n",
    "    #일단 초기화는 다 True로. \n",
    "    keep = [True]*len(order) \n",
    "\n",
    "    #keep 할건지 계산해보고 아니라면 False로 해당 arg를 변환해줌 \n",
    "    for i in range(len(order)-1):\n",
    "        ovps = batch_iou(boxes[order[i+1:]], boxes[order[i]]) # iou 각각계산(overlaps)\n",
    "        # order가 지금 확률이 큰 box부터 arg 순서로 되어있으니.. \n",
    "        # 큰거 순서로 큰걸 중앙으로 보고 그것보다 작은것 쭉 계산하는듯.. \n",
    "        for j, ov in enumerate(ovps): #threshold 보다 작으면 다 False / enumerate는 index, value 리턴\n",
    "            if ov > threshold:\n",
    "                keep[order[j+i+1]] = False\n",
    "                \n",
    "                \n",
    "    #결국 유지해줄 boxes들을 리턴하는 것인데. \n",
    "    #confidence score가 높은 친구들부터 차례대로 보면서 overlap이 threshold 이상인 친구들만 남김 트루\n",
    "    #배치로 계산\n",
    "    \n",
    "    return keep"
   ]
  },
  {
   "cell_type": "code",
   "execution_count": 6,
   "metadata": {
    "collapsed": true
   },
   "outputs": [],
   "source": [
    "# TODO(bichen): this is not equivalent with full NMS. Need to improve it.\n",
    "#라고 하니 이건 대충... \n",
    "def recursive_nms(boxes, probs, threshold, form='center'):\n",
    "    \"\"\"Recursive Non-Maximum supression.\n",
    "    Args:\n",
    "    boxes: array of [cx, cy, w, h] (center format) or [xmin, ymin, xmax, ymax]\n",
    "    probs: array of probabilities\n",
    "    threshold: two boxes are considered overlapping if their IOU is largher than\n",
    "        this threshold\n",
    "    form: 'center' or 'diagonal'\n",
    "    Returns:\n",
    "    keep: array of True or False.\n",
    "    \"\"\"\n",
    "    \n",
    "    #coordinates form  > center인지 diagonal인지..? \n",
    "    assert form == 'center' or form == 'diagonal', \\\n",
    "        'bounding box format not accepted: {}.'.format(form)\n",
    "\n",
    "    #여기서는 보통 센터를 사용하는듯.  [cx, cy, w, h]  가 들어온다면 diagonal로 변경해줌\n",
    "    if form == 'center':\n",
    "        # convert to diagonal format\n",
    "        boxes = np.array([bbox_transform(b) for b in boxes])\n",
    "\n",
    "    # box 면적 계산 \n",
    "    areas = (boxes[:, 2]-boxes[:, 0])*(boxes[:, 3]-boxes[:, 1])\n",
    "    # x 작은 것 부터? left 부터 \n",
    "    hidx = boxes[:, 0].argsort()\n",
    "    #초기화 \n",
    "    keep = [True]*len(hidx)\n",
    "    \n",
    "    #h index? arg sort array (x) \n",
    "    def _nms(hidx):\n",
    "        order = probs[hidx].argsort()[::-1] #nms와 동일 \n",
    "\n",
    "        for idx in range(len(order)): #돌면서 \n",
    "            if not keep[hidx[order[idx]]]: # keep 이 true일 때만 아래로 내려감 \n",
    "                continue\n",
    "            \n",
    "            xx2 = boxes[hidx[order[idx]], 2] # x index인데 order순서대로 > 가장 높은 prob 부터..\n",
    "            for jdx in range(idx+1, len(order)):\n",
    "                if not keep[hidx[order[jdx]]]: #여기도 True만 봄 \n",
    "                    continue\n",
    "                xx1 = boxes[hidx[order[jdx]], 0] \n",
    "                if xx2 < xx1:#xx2가 xx1보다 작으면 스톱 \n",
    "                    break\n",
    "                w = xx2 - xx1 #아니면 w 구해서 yy1,yy2 구하고 \n",
    "                yy1 = max(boxes[hidx[order[idx]], 1], boxes[hidx[order[jdx]], 1])\n",
    "                yy2 = min(boxes[hidx[order[idx]], 3], boxes[hidx[order[jdx]], 3])\n",
    "                if yy2 <= yy1: #여기서도 yy2가 더 커야 논스톱 \n",
    "                    continue\n",
    "                h = yy2-yy1\n",
    "                inter = w*h #구한 intersection. \n",
    "                iou = inter/(areas[hidx[order[idx]]]+areas[hidx[order[jdx]]]-inter)\n",
    "                if iou > threshold: #iou가 th보다 크면 False.. 보통 반대 아닌가..? \n",
    "                    keep[hidx[order[jdx]]] = False\n",
    "\n",
    "    def _recur(hidx):\n",
    "        if len(hidx) <= 20: #hidx가 20보다 작으면 그냥 _mns 하고 \n",
    "            _nms(hidx)\n",
    "        else: #그거보다 크면 divide & conquer? \n",
    "            mid = len(hidx)/2\n",
    "            _recur(hidx[:mid])\n",
    "            _recur(hidx[mid:])\n",
    "            _nms([idx for idx in hidx if keep[idx]])\n",
    "\n",
    "    _recur(hidx)#recur함수 돌림. \n",
    "\n",
    "    return keep"
   ]
  },
  {
   "cell_type": "code",
   "execution_count": 7,
   "metadata": {
    "collapsed": true
   },
   "outputs": [],
   "source": [
    "#sparse를 dense matrix로 바꿔준다. 원핫인코딩 느낌? \n",
    "def sparse_to_dense(sp_indices, output_shape, values, default_value=0):\n",
    "    \"\"\"Build a dense matrix from sparse representations.\n",
    "\n",
    "    Args:\n",
    "    sp_indices: A [0-2]-D array that contains the index to place values.\n",
    "    shape: shape of the dense matrix.\n",
    "    values: A {0,1}-D array where values corresponds to the index in each row of\n",
    "    sp_indices.\n",
    "    default_value: values to set for indices not specified in sp_indices.\n",
    "    Return:\n",
    "    A dense numpy N-D array with shape output_shape.\n",
    "    \"\"\"\n",
    "    #sp_indices 인덱스 포함한 array (matrix)\n",
    "    #output_shape 출력 쉐입 \n",
    "    #values 벨류> sp_indices의 각 row index에 해당 (class)\n",
    "    #default 해당값 이외 부분 채울 값 \n",
    "    #입력과 출력의 length 확인 \n",
    "    assert len(sp_indices) == len(values), \\\n",
    "        'Length of sp_indices is not equal to length of values'\n",
    "    #기본 default value로 세팅해줌. \n",
    "    array = np.ones(output_shape) * default_value\n",
    "    for idx, value in zip(sp_indices, values): #해당 인덱스에 value 넣어줌 \n",
    "        array[tuple(idx)] = value\n",
    "    return array\n",
    "\n",
    "\"\"\"\n",
    "sp = [[1,2],[3,4],[1,1],[2,3],[4,4]]\n",
    "print(sp)\n",
    "sparse_to_dense(sp_indices=sp , output_shape=(5,5), values=[1,2,3,4,5])\n",
    "array([[ 0.,  0.,  0.,  0.,  0.],\n",
    "       [ 0.,  3.,  1.,  0.,  0.],\n",
    "       [ 0.,  0.,  0.,  4.,  0.],\n",
    "       [ 0.,  0.,  0.,  0.,  2.],\n",
    "       [ 0.,  0.,  0.,  0.,  5.]])\n",
    "그냥 이런거 인듯\n",
    "\n",
    "\"\"\""
   ]
  },
  {
   "cell_type": "code",
   "execution_count": 9,
   "metadata": {
    "collapsed": true
   },
   "outputs": [],
   "source": [
    "def bgr_to_rgb(ims): #image bgr 형식을 rgb로 변환해줌. \n",
    "    \"\"\"Convert a list of images from BGR format to RGB format.\"\"\"\n",
    "    out = []\n",
    "    for im in ims:\n",
    "        out.append(im[:,:,::-1])\n",
    "    return out\n"
   ]
  },
  {
   "cell_type": "code",
   "execution_count": 8,
   "metadata": {
    "collapsed": true
   },
   "outputs": [],
   "source": [
    "def bbox_transform(bbox): #centor form을 diagonal form으로 변경해줌. \n",
    "    \"\"\"convert a bbox of form [cx, cy, w, h] to [xmin, ymin, xmax, ymax]. Works\n",
    "    for numpy array or list of tensors.\n",
    "    \"\"\"\n",
    "    with tf.variable_scope('bbox_transform') as scope:\n",
    "        cx, cy, w, h = bbox\n",
    "        out_box = [[]]*4\n",
    "        out_box[0] = cx-w/2\n",
    "        out_box[1] = cy-h/2\n",
    "        out_box[2] = cx+w/2\n",
    "        out_box[3] = cy+h/2\n",
    "\n",
    "    return out_box"
   ]
  },
  {
   "cell_type": "code",
   "execution_count": 10,
   "metadata": {
    "collapsed": true
   },
   "outputs": [],
   "source": [
    "def bbox_transform_inv(bbox): #diagonal form을 center form으로 변경해줌. \n",
    "    \"\"\"convert a bbox of form [xmin, ymin, xmax, ymax] to [cx, cy, w, h]. Works\n",
    "    for numpy array or list of tensors.\n",
    "    \"\"\"\n",
    "    with tf.variable_scope('bbox_transform_inv') as scope:\n",
    "        xmin, ymin, xmax, ymax = bbox\n",
    "        out_box = [[]]*4\n",
    "\n",
    "        width       = xmax - xmin + 1.0\n",
    "        height      = ymax - ymin + 1.0\n",
    "        out_box[0]  = xmin + 0.5*width \n",
    "        out_box[1]  = ymin + 0.5*height\n",
    "        out_box[2]  = width\n",
    "        out_box[3]  = height\n",
    "\n",
    "    return out_box"
   ]
  },
  {
   "cell_type": "code",
   "execution_count": 11,
   "metadata": {
    "collapsed": true
   },
   "outputs": [],
   "source": [
    "class Timer(object): #타이머 클래스. \n",
    "    def __init__(self):\n",
    "        self.total_time   = 0.0\n",
    "        self.calls        = 0\n",
    "        self.start_time   = 0.0\n",
    "        self.duration     = 0.0\n",
    "        self.average_time = 0.0\n",
    "\n",
    "    def tic(self): #start time 체크 \n",
    "        self.start_time = time.time()\n",
    "\n",
    "    def toc(self, average=True): #끝 타임 - duration, 토탈, 콜 해서 avg타임도 잼\n",
    "        self.duration = time.time() - self.start_time\n",
    "        self.total_time += self.duration\n",
    "        self.calls += 1\n",
    "        self.average_time = self.total_time/self.calls\n",
    "        if average:\n",
    "            return self.average_time\n",
    "        else:\n",
    "            return self.duration"
   ]
  },
  {
   "cell_type": "code",
   "execution_count": null,
   "metadata": {
    "collapsed": true
   },
   "outputs": [],
   "source": [
    "def safe_exp(w, thresh): # 안전 익스포넨셜..? \n",
    "    \"\"\"Safe exponential function for tensors.\"\"\"\n",
    "\n",
    "    slope = np.exp(thresh) # e ^ thresh\n",
    "    with tf.variable_scope('safe_exponential'):\n",
    "        lin_bool = w > thresh # w가 thresh보다 더 크면 \n",
    "        lin_region = tf.to_float(lin_bool) #float으로 변환..? \n",
    "\n",
    "        lin_out = slope*(w - thresh + 1.)\n",
    "        exp_out = tf.exp(tf.where(lin_bool, tf.zeros_like(w), w))\n",
    "\n",
    "        out = lin_region*lin_out + (1.-lin_region)*exp_out\n",
    "    return out\n",
    "\n",
    "\"\"\"\n",
    "nn_skeleton.py \n",
    " box_center_x = tf.identity(\n",
    "            anchor_x + delta_x * anchor_w, name='bbox_cx')\n",
    "        box_center_y = tf.identity(\n",
    "            anchor_y + delta_y * anchor_h, name='bbox_cy')\n",
    "        box_width = tf.identity(\n",
    "            anchor_w * util.safe_exp(delta_w, mc.EXP_THRESH),\n",
    "            name='bbox_width')\n",
    "        box_height = tf.identity(\n",
    "            anchor_h * util.safe_exp(delta_h, mc.EXP_THRESH),\n",
    "            name='bbox_height')\n",
    "여기서 사용함 (1번식 같음)\n",
    "\n",
    "config.py 내부 \n",
    " # threshold for safe exponential operation\n",
    "  cfg.EXP_THRESH=1.0\n",
    "  \n",
    "델타는 뭐 값이지 않을까 함.. \n",
    " delta_x, delta_y, delta_w, delta_h = tf.unstack(\n",
    "            self.pred_box_delta, axis=2)\n",
    "            여기서 delta가 나옴. \n",
    "\"\"\""
   ]
  },
  {
   "cell_type": "code",
   "execution_count": 3,
   "metadata": {
    "collapsed": true
   },
   "outputs": [],
   "source": [
    "import numpy as np"
   ]
  },
  {
   "cell_type": "code",
   "execution_count": 4,
   "metadata": {
    "collapsed": true
   },
   "outputs": [],
   "source": [
    "_image_idx = [1,2,3,4,5]\n",
    "_idx = [_image_idx[i] for i in np.random.permutation(np.arange(len(_image_idx)))]"
   ]
  },
  {
   "cell_type": "code",
   "execution_count": 5,
   "metadata": {},
   "outputs": [
    {
     "data": {
      "text/plain": [
       "[1, 3, 4, 2, 5]"
      ]
     },
     "execution_count": 5,
     "metadata": {},
     "output_type": "execute_result"
    }
   ],
   "source": [
    "_idx"
   ]
  },
  {
   "cell_type": "code",
   "execution_count": 10,
   "metadata": {
    "collapsed": true
   },
   "outputs": [],
   "source": [
    "im = np.array([[[1,2,3],[2,2,2],[1,1,1]],[[1,2,3],[5,5,5],[6,6,6]]])"
   ]
  },
  {
   "cell_type": "code",
   "execution_count": 11,
   "metadata": {},
   "outputs": [
    {
     "data": {
      "text/plain": [
       "array([[[1, 2, 3],\n",
       "        [2, 2, 2],\n",
       "        [1, 1, 1]],\n",
       "\n",
       "       [[1, 2, 3],\n",
       "        [5, 5, 5],\n",
       "        [6, 6, 6]]])"
      ]
     },
     "execution_count": 11,
     "metadata": {},
     "output_type": "execute_result"
    }
   ],
   "source": [
    "im"
   ]
  },
  {
   "cell_type": "code",
   "execution_count": 12,
   "metadata": {},
   "outputs": [
    {
     "data": {
      "text/plain": [
       "(2, 3, 3)"
      ]
     },
     "execution_count": 12,
     "metadata": {},
     "output_type": "execute_result"
    }
   ],
   "source": [
    "im.shape"
   ]
  },
  {
   "cell_type": "code",
   "execution_count": 14,
   "metadata": {},
   "outputs": [
    {
     "data": {
      "text/plain": [
       "[2.0, 3.0, 3.0]"
      ]
     },
     "execution_count": 14,
     "metadata": {},
     "output_type": "execute_result"
    }
   ],
   "source": [
    "[float(v) for v in im.shape]"
   ]
  },
  {
   "cell_type": "code",
   "execution_count": 17,
   "metadata": {},
   "outputs": [
    {
     "data": {
      "text/plain": [
       "array([  -3. ,   -1.5, -460. ])"
      ]
     },
     "execution_count": 17,
     "metadata": {},
     "output_type": "execute_result"
    }
   ],
   "source": [
    "gt_bbox = np.array([[1,1,10,10], [10,55,25,99], [150,250,1222,1111]])\n",
    "min(gt_bbox[:, 0] - gt_bbox[:, 2]/2.0+1)\n",
    "gt_bbox[:, 0] - gt_bbox[:, 2]/2.0+1"
   ]
  },
  {
   "cell_type": "code",
   "execution_count": 21,
   "metadata": {},
   "outputs": [
    {
     "data": {
      "text/plain": [
       "0"
      ]
     },
     "execution_count": 21,
     "metadata": {},
     "output_type": "execute_result"
    }
   ],
   "source": [
    "np.random.randint(2)"
   ]
  },
  {
   "cell_type": "code",
   "execution_count": 23,
   "metadata": {},
   "outputs": [
    {
     "data": {
      "text/plain": [
       "array([1, 3, 5])"
      ]
     },
     "execution_count": 23,
     "metadata": {},
     "output_type": "execute_result"
    }
   ],
   "source": [
    "a = np.array([1,2,3,4,5])\n",
    "a[0::2]"
   ]
  },
  {
   "cell_type": "code",
   "execution_count": 24,
   "metadata": {
    "collapsed": true
   },
   "outputs": [],
   "source": [
    "ad = set() "
   ]
  },
  {
   "cell_type": "code",
   "execution_count": 25,
   "metadata": {},
   "outputs": [
    {
     "data": {
      "text/plain": [
       "set()"
      ]
     },
     "execution_count": 25,
     "metadata": {},
     "output_type": "execute_result"
    }
   ],
   "source": [
    "ad"
   ]
  },
  {
   "cell_type": "code",
   "execution_count": 27,
   "metadata": {},
   "outputs": [
    {
     "data": {
      "text/plain": [
       "{}"
      ]
     },
     "execution_count": 27,
     "metadata": {},
     "output_type": "execute_result"
    }
   ],
   "source": [
    "ad."
   ]
  },
  {
   "cell_type": "code",
   "execution_count": null,
   "metadata": {
    "collapsed": true
   },
   "outputs": [],
   "source": []
  }
 ],
 "metadata": {
  "kernelspec": {
   "display_name": "Python 3",
   "language": "python",
   "name": "python3"
  },
  "language_info": {
   "codemirror_mode": {
    "name": "ipython",
    "version": 3
   },
   "file_extension": ".py",
   "mimetype": "text/x-python",
   "name": "python",
   "nbconvert_exporter": "python",
   "pygments_lexer": "ipython3",
   "version": "3.5.2"
  }
 },
 "nbformat": 4,
 "nbformat_minor": 2
}
