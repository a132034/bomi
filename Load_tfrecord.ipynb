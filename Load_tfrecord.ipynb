{
 "cells": [
  {
   "cell_type": "code",
   "execution_count": 21,
   "metadata": {
    "collapsed": true
   },
   "outputs": [],
   "source": [
    "import tensorflow as tf\n",
    "import numpy as np\n",
    "import matplotlib.pyplot as plt\n",
    "import os"
   ]
  },
  {
   "cell_type": "code",
   "execution_count": 20,
   "metadata": {},
   "outputs": [
    {
     "name": "stdout",
     "output_type": "stream",
     "text": [
      "(?, ?, ?)\n",
      "(?, ?, 3)\n",
      "(224, 224, 3)\n",
      "()\n"
     ]
    }
   ],
   "source": [
    "data_path = 'pascalvoc.tfrecord'\n",
    "\"\"\"\n",
    "example = tf.train.Example(features=tf.train.Features(feature={\n",
    "            'image/height': int64_feature(shape[0]),\n",
    "            'image/width': int64_feature(shape[1]),\n",
    "            'image/channels': int64_feature(shape[2]),\n",
    "            'image/shape': int64_feature(shape),\n",
    "            'image/object/bbox/xmin': float_feature(xmin),\n",
    "            'image/object/bbox/xmax': float_feature(xmax),\n",
    "            'image/object/bbox/ymin': float_feature(ymin),\n",
    "            'image/object/bbox/ymax': float_feature(ymax),\n",
    "            'image/object/bbox/label': int64_feature(labels),\n",
    "            'image/object/bbox/label_text': bytes_feature(labels_text),\n",
    "            'image/object/bbox/difficult': int64_feature(difficult),\n",
    "            'image/object/bbox/truncated': int64_feature(truncated),\n",
    "            'image/format': bytes_feature(image_format), #포멧\n",
    "            'image/encoded': bytes_feature(image_data)})) #실데이터\n",
    "\"\"\"\n",
    "with tf.Session() as sess:\n",
    "    \n",
    "    feature = {'image/encoded': tf.FixedLenFeature([], tf.string),\n",
    "               'image/label': tf.FixedLenFeature([], tf.int64),\n",
    "               'image/width': tf.FixedLenFeature([], tf.int64),\n",
    "               'image/height': tf.FixedLenFeature([], tf.int64),\n",
    "               'image/channels': tf.FixedLenFeature([], tf.int64),\n",
    "              }\n",
    "    # Create a list of filenames and pass it to a queue\n",
    "    filename_queue = tf.train.string_input_producer([data_path], num_epochs=1)\n",
    "    # Define a reader and read the next record\n",
    "    reader = tf.TFRecordReader()\n",
    "    _, serialized_example = reader.read(filename_queue)\n",
    "    # Decode the record read by the reader\n",
    "    features = tf.parse_single_example(serialized_example, features=feature)\n",
    "    # Convert the image data from string back to the numbers\n",
    "    #image = tf.image.decode_jpeg(features['image/encoded'], channels=3)\n",
    "    image_raw = tf.decode_raw(features['image/encoded'], tf.uint8)\n",
    "        \n",
    "    print(image.shape)\n",
    "    \n",
    "    height = tf.cast(features['image/height'], tf.int32)\n",
    "    width = tf.cast(features['image/width'], tf.int32)\n",
    "    channel = tf.cast(features['image/channels'], tf.int32)\n",
    "    \n",
    "    img_shape = tf.stack([height, width, 3])\n",
    "    \n",
    "    image = tf.reshape(image_raw, img_shape)\n",
    "    print(image.shape)\n",
    "    resized = tf.image.resize_image_with_crop_or_pad(image = image, target_height=224, target_width=224)\n",
    "    print(resized.shape)\n",
    "    # Cast label data into int32\n",
    "    label = tf.cast(features['image/label'], tf.int32)\n",
    "    print(label.shape)\n",
    "\n",
    "    # Reshape image data into the original shape\n",
    "    #image = sess.run(decode_jpeg, feed_dict={decode_jpeg_data : image_str})\n",
    "    \n",
    "    # Creates batches by randomly shuffling tensors\n",
    "    images, labels = tf.train.shuffle_batch([resized, label], batch_size=10, capacity=30, num_threads=1, min_after_dequeue=10)"
   ]
  },
  {
   "cell_type": "code",
   "execution_count": null,
   "metadata": {
    "collapsed": true
   },
   "outputs": [],
   "source": [
    "reconstructed_images = []\n",
    "sess = tf.Session()\n",
    "decode_jpeg_data = tf.placeholder(dtype=tf.string)\n",
    "decode_jpeg = tf.image.decode_jpeg(decode_jpeg_data, channels=3)\n",
    "record_iterator = tf.python_io.tf_record_iterator('pascalvoc_000.tfrecord')\n",
    "\n",
    "for string_record in record_iterator:\n",
    "    \n",
    "    example = tf.train.Example()\n",
    "    example.ParseFromString(string_record)\n",
    "    \n",
    "    height = int(example.features.feature['image/height']\n",
    "                                 .int64_list\n",
    "                                 .value[0])\n",
    "    width = int(example.features.feature['image/width']\n",
    "                                 .int64_list\n",
    "                                 .value[0])\n",
    "    channel = int(example.features.feature['image/channels']\n",
    "                                 .int64_list\n",
    "                                 .value[0])\n",
    "    image_str = (example.features.feature['image/encoded']\n",
    "                                  .bytes_list\n",
    "                                  .value[0])\n",
    "    s1 =  (example.features.feature['image/shape']\n",
    "                                  .int64_list\n",
    "                                  .value)\n",
    "    img_1d = np.fromstring(image_str, dtype=np.uint8)\n",
    "    iii = sess.run(decode_jpeg, feed_dict={decode_jpeg_data : image_str})\n",
    "    plt.imshow(iii)\n",
    "    plt.show()\n",
    "    #image = img_1d.reshape((height, width, channel))\n",
    "    "
   ]
  },
  {
   "cell_type": "code",
   "execution_count": null,
   "metadata": {
    "collapsed": true
   },
   "outputs": [],
   "source": [
    "http://warmspringwinds.github.io/tensorflow/tf-slim/2016/12/21/tfrecords-guide/"
   ]
  },
  {
   "cell_type": "code",
   "execution_count": null,
   "metadata": {
    "collapsed": true
   },
   "outputs": [],
   "source": [
    "\"\"\"\n",
    "example = tf.train.Example(features=tf.train.Features(feature={\n",
    "            'image/height': int64_feature(shape[0]),\n",
    "            'image/width': int64_feature(shape[1]),\n",
    "            'image/channels': int64_feature(shape[2]),\n",
    "            'image/shape': int64_feature(shape),\n",
    "            'image/object/bbox/xmin': float_feature(xmin),\n",
    "            'image/object/bbox/xmax': float_feature(xmax),\n",
    "            'image/object/bbox/ymin': float_feature(ymin),\n",
    "            'image/object/bbox/ymax': float_feature(ymax),\n",
    "            'image/object/bbox/label': int64_feature(labels),\n",
    "            'image/object/bbox/label_text': bytes_feature(labels_text),\n",
    "            'image/object/bbox/difficult': int64_feature(difficult),\n",
    "            'image/object/bbox/truncated': int64_feature(truncated),\n",
    "            'image/format': bytes_feature(image_format), #포멧\n",
    "            'image/encoded': bytes_feature(image_data)})) #실데이터\n",
    "\"\"\"\n",
    "\n",
    "record_iterator = tf.python_io.tf_record_iterator('pascalvoc_000.tfrecord')\n",
    "\n",
    "reconstructed_images = []\n",
    "sess = tf.Session()\n",
    "decode_jpeg_data = tf.placeholder(dtype=tf.string)\n",
    "decode_jpeg = tf.image.decode_jpeg(decode_jpeg_data, channels=3)\n",
    "\n",
    "\n",
    "for string_record in record_iterator:\n",
    "    \n",
    "    example = tf.train.Example()\n",
    "    example.ParseFromString(string_record)\n",
    "    \n",
    "    height = int(example.features.feature['image/height']\n",
    "                                 .int64_list\n",
    "                                 .value[0])\n",
    "    width = int(example.features.feature['image/width']\n",
    "                                 .int64_list\n",
    "                                 .value[0])\n",
    "    channel = int(example.features.feature['image/channels']\n",
    "                                 .int64_list\n",
    "                                 .value[0])\n",
    "    image_str = (example.features.feature['image/encoded']\n",
    "                                  .bytes_list\n",
    "                                  .value[0])\n",
    "    s1 =  (example.features.feature['image/shape']\n",
    "                                  .int64_list\n",
    "                                  .value)\n",
    "    img_1d = np.fromstring(image_str, dtype=np.uint8)\n",
    "    iii = sess.run(decode_jpeg, feed_dict={decode_jpeg_data : image_str})\n",
    "    plt.imshow(iii)\n",
    "    plt.show()\n",
    "    #image = img_1d.reshape((height, width, channel))\n",
    "    "
   ]
  }
 ],
 "metadata": {
  "kernelspec": {
   "display_name": "Python 3",
   "language": "python",
   "name": "python3"
  },
  "language_info": {
   "codemirror_mode": {
    "name": "ipython",
    "version": 3
   },
   "file_extension": ".py",
   "mimetype": "text/x-python",
   "name": "python",
   "nbconvert_exporter": "python",
   "pygments_lexer": "ipython3",
   "version": "3.5.2"
  }
 },
 "nbformat": 4,
 "nbformat_minor": 2
}
